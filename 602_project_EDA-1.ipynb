{
 "cells": [
  {
   "cell_type": "markdown",
   "id": "e64ef209",
   "metadata": {},
   "source": [
    "##### 602 Project: 311 City Service Requests in DC Completion Time Prediction"
   ]
  },
  {
   "cell_type": "markdown",
   "id": "2774691d",
   "metadata": {},
   "source": [
    "###### Basic EDA"
   ]
  },
  {
   "cell_type": "code",
   "execution_count": 65,
   "id": "8ded3a2a",
   "metadata": {},
   "outputs": [],
   "source": [
    "import pandas as pd\n",
    "import numpy as np\n",
    "import matplotlib.pyplot as plt\n",
    "import io\n",
    "import requests\n",
    "import seaborn as sns"
   ]
  },
  {
   "cell_type": "code",
   "execution_count": 66,
   "id": "1fae35bb",
   "metadata": {},
   "outputs": [
    {
     "name": "stderr",
     "output_type": "stream",
     "text": [
      "C:\\Users\\manis\\AppData\\Local\\Temp\\ipykernel_41904\\2394893822.py:2: DtypeWarning: Columns (29) have mixed types. Specify dtype option on import or set low_memory=False.\n",
      "  data=pd.read_csv(\"C:/Users/manis/OneDrive/Documents/DATA-602 - Data Analysis & ML/Project/311_City_Service_Requests_in_2021.csv\")\n"
     ]
    },
    {
     "data": {
      "text/html": [
       "<div>\n",
       "<style scoped>\n",
       "    .dataframe tbody tr th:only-of-type {\n",
       "        vertical-align: middle;\n",
       "    }\n",
       "\n",
       "    .dataframe tbody tr th {\n",
       "        vertical-align: top;\n",
       "    }\n",
       "\n",
       "    .dataframe thead th {\n",
       "        text-align: right;\n",
       "    }\n",
       "</style>\n",
       "<table border=\"1\" class=\"dataframe\">\n",
       "  <thead>\n",
       "    <tr style=\"text-align: right;\">\n",
       "      <th></th>\n",
       "      <th>X</th>\n",
       "      <th>Y</th>\n",
       "      <th>OBJECTID</th>\n",
       "      <th>SERVICECODE</th>\n",
       "      <th>SERVICECODEDESCRIPTION</th>\n",
       "      <th>SERVICETYPECODEDESCRIPTION</th>\n",
       "      <th>ORGANIZATIONACRONYM</th>\n",
       "      <th>SERVICECALLCOUNT</th>\n",
       "      <th>ADDDATE</th>\n",
       "      <th>RESOLUTIONDATE</th>\n",
       "      <th>...</th>\n",
       "      <th>ZIPCODE</th>\n",
       "      <th>MARADDRESSREPOSITORYID</th>\n",
       "      <th>WARD</th>\n",
       "      <th>DETAILS</th>\n",
       "      <th>GIS_ID</th>\n",
       "      <th>GLOBALID</th>\n",
       "      <th>CREATOR</th>\n",
       "      <th>CREATED</th>\n",
       "      <th>EDITOR</th>\n",
       "      <th>EDITED</th>\n",
       "    </tr>\n",
       "  </thead>\n",
       "  <tbody>\n",
       "    <tr>\n",
       "      <th>0</th>\n",
       "      <td>-77.014822</td>\n",
       "      <td>38.914546</td>\n",
       "      <td>9591692</td>\n",
       "      <td>S0031</td>\n",
       "      <td>Bulk Collection</td>\n",
       "      <td>SWMA- Solid Waste Management Admistration</td>\n",
       "      <td>DPW</td>\n",
       "      <td>1</td>\n",
       "      <td>2021/01/01 05:32:05+00</td>\n",
       "      <td>2021/01/06 15:34:42+00</td>\n",
       "      <td>...</td>\n",
       "      <td>20001.0</td>\n",
       "      <td>230050</td>\n",
       "      <td>5</td>\n",
       "      <td>NaN</td>\n",
       "      <td>NaN</td>\n",
       "      <td>{B7D1802E-75AA-7CDF-E053-532F520AE3B3}</td>\n",
       "      <td>NaN</td>\n",
       "      <td>NaN</td>\n",
       "      <td>NaN</td>\n",
       "      <td>NaN</td>\n",
       "    </tr>\n",
       "    <tr>\n",
       "      <th>1</th>\n",
       "      <td>-76.995047</td>\n",
       "      <td>38.853735</td>\n",
       "      <td>9591693</td>\n",
       "      <td>BICYCLE</td>\n",
       "      <td>Abandoned Bicycle</td>\n",
       "      <td>SWMA- Solid Waste Management Admistration</td>\n",
       "      <td>DPW</td>\n",
       "      <td>1</td>\n",
       "      <td>2021/01/01 05:06:02+00</td>\n",
       "      <td>2021/01/01 05:07:01+00</td>\n",
       "      <td>...</td>\n",
       "      <td>20032.0</td>\n",
       "      <td>301360</td>\n",
       "      <td>8</td>\n",
       "      <td>NaN</td>\n",
       "      <td>NaN</td>\n",
       "      <td>{B7D1802E-75AB-7CDF-E053-532F520AE3B3}</td>\n",
       "      <td>NaN</td>\n",
       "      <td>NaN</td>\n",
       "      <td>NaN</td>\n",
       "      <td>NaN</td>\n",
       "    </tr>\n",
       "    <tr>\n",
       "      <th>2</th>\n",
       "      <td>-77.024386</td>\n",
       "      <td>38.946008</td>\n",
       "      <td>9591695</td>\n",
       "      <td>S05SL</td>\n",
       "      <td>Streetlight Repair Investigation</td>\n",
       "      <td>Transportation Operations Administration</td>\n",
       "      <td>DDOT</td>\n",
       "      <td>1</td>\n",
       "      <td>2021/01/01 05:33:08+00</td>\n",
       "      <td>2021/01/05 05:55:04+00</td>\n",
       "      <td>...</td>\n",
       "      <td>20011.0</td>\n",
       "      <td>252336</td>\n",
       "      <td>4</td>\n",
       "      <td>NaN</td>\n",
       "      <td>NaN</td>\n",
       "      <td>{B7D1802E-75AD-7CDF-E053-532F520AE3B3}</td>\n",
       "      <td>NaN</td>\n",
       "      <td>NaN</td>\n",
       "      <td>NaN</td>\n",
       "      <td>NaN</td>\n",
       "    </tr>\n",
       "    <tr>\n",
       "      <th>3</th>\n",
       "      <td>-76.942117</td>\n",
       "      <td>38.878522</td>\n",
       "      <td>9591696</td>\n",
       "      <td>S0031</td>\n",
       "      <td>Bulk Collection</td>\n",
       "      <td>SWMA- Solid Waste Management Admistration</td>\n",
       "      <td>DPW</td>\n",
       "      <td>1</td>\n",
       "      <td>2021/01/01 11:58:18+00</td>\n",
       "      <td>2021/01/04 12:54:36+00</td>\n",
       "      <td>...</td>\n",
       "      <td>20019.0</td>\n",
       "      <td>24709</td>\n",
       "      <td>7</td>\n",
       "      <td>NaN</td>\n",
       "      <td>NaN</td>\n",
       "      <td>{B7D764C0-4508-BB8F-E053-532F520A63E8}</td>\n",
       "      <td>NaN</td>\n",
       "      <td>NaN</td>\n",
       "      <td>NaN</td>\n",
       "      <td>NaN</td>\n",
       "    </tr>\n",
       "    <tr>\n",
       "      <th>4</th>\n",
       "      <td>-77.083344</td>\n",
       "      <td>38.946074</td>\n",
       "      <td>9591903</td>\n",
       "      <td>S05SL</td>\n",
       "      <td>Streetlight Repair Investigation</td>\n",
       "      <td>Transportation Operations Administration</td>\n",
       "      <td>DDOT</td>\n",
       "      <td>1</td>\n",
       "      <td>2021/01/01 06:05:25+00</td>\n",
       "      <td>2021/01/26 21:40:13+00</td>\n",
       "      <td>...</td>\n",
       "      <td>20016.0</td>\n",
       "      <td>266186</td>\n",
       "      <td>3</td>\n",
       "      <td>NaN</td>\n",
       "      <td>NaN</td>\n",
       "      <td>{B7D25EBE-F302-E2F7-E053-542F520AD49B}</td>\n",
       "      <td>NaN</td>\n",
       "      <td>NaN</td>\n",
       "      <td>NaN</td>\n",
       "      <td>NaN</td>\n",
       "    </tr>\n",
       "  </tbody>\n",
       "</table>\n",
       "<p>5 rows × 36 columns</p>\n",
       "</div>"
      ],
      "text/plain": [
       "           X          Y  OBJECTID SERVICECODE  \\\n",
       "0 -77.014822  38.914546   9591692       S0031   \n",
       "1 -76.995047  38.853735   9591693     BICYCLE   \n",
       "2 -77.024386  38.946008   9591695       S05SL   \n",
       "3 -76.942117  38.878522   9591696       S0031   \n",
       "4 -77.083344  38.946074   9591903       S05SL   \n",
       "\n",
       "             SERVICECODEDESCRIPTION  \\\n",
       "0                   Bulk Collection   \n",
       "1                 Abandoned Bicycle   \n",
       "2  Streetlight Repair Investigation   \n",
       "3                   Bulk Collection   \n",
       "4  Streetlight Repair Investigation   \n",
       "\n",
       "                  SERVICETYPECODEDESCRIPTION ORGANIZATIONACRONYM  \\\n",
       "0  SWMA- Solid Waste Management Admistration                 DPW   \n",
       "1  SWMA- Solid Waste Management Admistration                 DPW   \n",
       "2   Transportation Operations Administration                DDOT   \n",
       "3  SWMA- Solid Waste Management Admistration                 DPW   \n",
       "4   Transportation Operations Administration                DDOT   \n",
       "\n",
       "   SERVICECALLCOUNT                 ADDDATE          RESOLUTIONDATE  ...  \\\n",
       "0                 1  2021/01/01 05:32:05+00  2021/01/06 15:34:42+00  ...   \n",
       "1                 1  2021/01/01 05:06:02+00  2021/01/01 05:07:01+00  ...   \n",
       "2                 1  2021/01/01 05:33:08+00  2021/01/05 05:55:04+00  ...   \n",
       "3                 1  2021/01/01 11:58:18+00  2021/01/04 12:54:36+00  ...   \n",
       "4                 1  2021/01/01 06:05:25+00  2021/01/26 21:40:13+00  ...   \n",
       "\n",
       "   ZIPCODE MARADDRESSREPOSITORYID  WARD  DETAILS  GIS_ID  \\\n",
       "0  20001.0                 230050     5      NaN     NaN   \n",
       "1  20032.0                 301360     8      NaN     NaN   \n",
       "2  20011.0                 252336     4      NaN     NaN   \n",
       "3  20019.0                  24709     7      NaN     NaN   \n",
       "4  20016.0                 266186     3      NaN     NaN   \n",
       "\n",
       "                                 GLOBALID  CREATOR CREATED EDITOR EDITED  \n",
       "0  {B7D1802E-75AA-7CDF-E053-532F520AE3B3}      NaN     NaN    NaN    NaN  \n",
       "1  {B7D1802E-75AB-7CDF-E053-532F520AE3B3}      NaN     NaN    NaN    NaN  \n",
       "2  {B7D1802E-75AD-7CDF-E053-532F520AE3B3}      NaN     NaN    NaN    NaN  \n",
       "3  {B7D764C0-4508-BB8F-E053-532F520A63E8}      NaN     NaN    NaN    NaN  \n",
       "4  {B7D25EBE-F302-E2F7-E053-542F520AD49B}      NaN     NaN    NaN    NaN  \n",
       "\n",
       "[5 rows x 36 columns]"
      ]
     },
     "execution_count": 66,
     "metadata": {},
     "output_type": "execute_result"
    }
   ],
   "source": [
    "#use the csv file GateArrivalDelay.csv.\n",
    "data=pd.read_csv(\"C:/Users/manis/OneDrive/Documents/DATA-602 - Data Analysis & ML/Project/311_City_Service_Requests_in_2021.csv\")\n",
    "#data=pd.read_csv(\"sample_311_City_Service_Requests_in_2021.csv\")\n",
    "data.head()"
   ]
  },
  {
   "cell_type": "code",
   "execution_count": 67,
   "id": "5019cf5f",
   "metadata": {},
   "outputs": [
    {
     "data": {
      "text/plain": [
       "(360816, 36)"
      ]
     },
     "execution_count": 67,
     "metadata": {},
     "output_type": "execute_result"
    }
   ],
   "source": [
    "data.shape"
   ]
  },
  {
   "cell_type": "code",
   "execution_count": 68,
   "id": "6dda7f36",
   "metadata": {},
   "outputs": [
    {
     "data": {
      "text/plain": [
       "Index(['X', 'Y', 'OBJECTID', 'SERVICECODE', 'SERVICECODEDESCRIPTION',\n",
       "       'SERVICETYPECODEDESCRIPTION', 'ORGANIZATIONACRONYM', 'SERVICECALLCOUNT',\n",
       "       'ADDDATE', 'RESOLUTIONDATE', 'SERVICEDUEDATE', 'SERVICEORDERDATE',\n",
       "       'INSPECTIONFLAG', 'INSPECTIONDATE', 'INSPECTORNAME',\n",
       "       'SERVICEORDERSTATUS', 'STATUS_CODE', 'SERVICEREQUESTID', 'PRIORITY',\n",
       "       'STREETADDRESS', 'XCOORD', 'YCOORD', 'LATITUDE', 'LONGITUDE', 'CITY',\n",
       "       'STATE', 'ZIPCODE', 'MARADDRESSREPOSITORYID', 'WARD', 'DETAILS',\n",
       "       'GIS_ID', 'GLOBALID', 'CREATOR', 'CREATED', 'EDITOR', 'EDITED'],\n",
       "      dtype='object')"
      ]
     },
     "execution_count": 68,
     "metadata": {},
     "output_type": "execute_result"
    }
   ],
   "source": [
    "data.columns"
   ]
  },
  {
   "cell_type": "code",
   "execution_count": 69,
   "id": "0844625b",
   "metadata": {},
   "outputs": [
    {
     "data": {
      "text/plain": [
       "X                              98538\n",
       "Y                              98538\n",
       "OBJECTID                      360816\n",
       "SERVICECODE                      118\n",
       "SERVICECODEDESCRIPTION           119\n",
       "SERVICETYPECODEDESCRIPTION        25\n",
       "ORGANIZATIONACRONYM               13\n",
       "SERVICECALLCOUNT                   1\n",
       "ADDDATE                       356709\n",
       "RESOLUTIONDATE                344718\n",
       "SERVICEDUEDATE                282738\n",
       "SERVICEORDERDATE              356709\n",
       "INSPECTIONFLAG                     0\n",
       "INSPECTIONDATE                     0\n",
       "INSPECTORNAME                      0\n",
       "SERVICEORDERSTATUS                12\n",
       "STATUS_CODE                        0\n",
       "SERVICEREQUESTID              360816\n",
       "PRIORITY                           6\n",
       "STREETADDRESS                 101041\n",
       "XCOORD                         93602\n",
       "YCOORD                         93978\n",
       "LATITUDE                       97667\n",
       "LONGITUDE                      97908\n",
       "CITY                               1\n",
       "STATE                              1\n",
       "ZIPCODE                          111\n",
       "MARADDRESSREPOSITORYID         98643\n",
       "WARD                               9\n",
       "DETAILS                            3\n",
       "GIS_ID                             0\n",
       "GLOBALID                      360816\n",
       "CREATOR                            0\n",
       "CREATED                            0\n",
       "EDITOR                             0\n",
       "EDITED                             0\n",
       "dtype: int64"
      ]
     },
     "execution_count": 69,
     "metadata": {},
     "output_type": "execute_result"
    }
   ],
   "source": [
    "data.nunique()"
   ]
  },
  {
   "cell_type": "code",
   "execution_count": 2,
   "id": "46a11524",
   "metadata": {},
   "outputs": [
    {
     "ename": "NameError",
     "evalue": "name 'data' is not defined",
     "output_type": "error",
     "traceback": [
      "\u001b[1;31m---------------------------------------------------------------------------\u001b[0m",
      "\u001b[1;31mNameError\u001b[0m                                 Traceback (most recent call last)",
      "File \u001b[1;32m<timed exec>:2\u001b[0m\n",
      "\u001b[1;31mNameError\u001b[0m: name 'data' is not defined"
     ]
    }
   ],
   "source": [
    "%%time\n",
    "#dropping columns\n",
    "df = data.drop(['INSPECTIONFLAG', 'INSPECTIONDATE', 'INSPECTORNAME', 'STATUS_CODE', \n",
    "                    'GIS_ID','CREATOR','CREATED','EDITOR' ,'EDITED','SERVICECALLCOUNT'],axis=1)"
   ]
  },
  {
   "cell_type": "code",
   "execution_count": 71,
   "id": "ca9cc8e9",
   "metadata": {},
   "outputs": [
    {
     "data": {
      "text/plain": [
       "X                             float64\n",
       "Y                             float64\n",
       "OBJECTID                        int64\n",
       "SERVICECODE                    object\n",
       "SERVICECODEDESCRIPTION         object\n",
       "SERVICETYPECODEDESCRIPTION     object\n",
       "ORGANIZATIONACRONYM            object\n",
       "ADDDATE                        object\n",
       "RESOLUTIONDATE                 object\n",
       "SERVICEDUEDATE                 object\n",
       "SERVICEORDERDATE               object\n",
       "SERVICEORDERSTATUS             object\n",
       "SERVICEREQUESTID               object\n",
       "PRIORITY                       object\n",
       "STREETADDRESS                  object\n",
       "XCOORD                        float64\n",
       "YCOORD                        float64\n",
       "LATITUDE                      float64\n",
       "LONGITUDE                     float64\n",
       "CITY                           object\n",
       "STATE                          object\n",
       "ZIPCODE                       float64\n",
       "MARADDRESSREPOSITORYID          int64\n",
       "WARD                           object\n",
       "DETAILS                        object\n",
       "GLOBALID                       object\n",
       "dtype: object"
      ]
     },
     "execution_count": 71,
     "metadata": {},
     "output_type": "execute_result"
    }
   ],
   "source": [
    "df.dtypes"
   ]
  },
  {
   "cell_type": "code",
   "execution_count": 1,
   "id": "7ad6f0e7",
   "metadata": {},
   "outputs": [
    {
     "ename": "NameError",
     "evalue": "name 'df' is not defined",
     "output_type": "error",
     "traceback": [
      "\u001b[1;31m---------------------------------------------------------------------------\u001b[0m",
      "\u001b[1;31mNameError\u001b[0m                                 Traceback (most recent call last)",
      "Cell \u001b[1;32mIn[1], line 1\u001b[0m\n\u001b[1;32m----> 1\u001b[0m \u001b[43mdf\u001b[49m\u001b[38;5;241m.\u001b[39mcount()\n",
      "\u001b[1;31mNameError\u001b[0m: name 'df' is not defined"
     ]
    }
   ],
   "source": [
    "df.count()"
   ]
  },
  {
   "cell_type": "code",
   "execution_count": 72,
   "id": "2a7bd045",
   "metadata": {},
   "outputs": [
    {
     "data": {
      "text/plain": [
       "X                                         float64\n",
       "Y                                         float64\n",
       "OBJECTID                                    int64\n",
       "SERVICECODE                                object\n",
       "SERVICECODEDESCRIPTION                     object\n",
       "SERVICETYPECODEDESCRIPTION                 object\n",
       "ORGANIZATIONACRONYM                        object\n",
       "ADDDATE                       datetime64[ns, UTC]\n",
       "RESOLUTIONDATE                datetime64[ns, UTC]\n",
       "SERVICEDUEDATE                datetime64[ns, UTC]\n",
       "SERVICEORDERDATE              datetime64[ns, UTC]\n",
       "SERVICEORDERSTATUS                         object\n",
       "SERVICEREQUESTID                           object\n",
       "PRIORITY                                   object\n",
       "STREETADDRESS                              object\n",
       "XCOORD                                    float64\n",
       "YCOORD                                    float64\n",
       "LATITUDE                                  float64\n",
       "LONGITUDE                                 float64\n",
       "CITY                                       object\n",
       "STATE                                      object\n",
       "ZIPCODE                                   float64\n",
       "MARADDRESSREPOSITORYID                      int64\n",
       "WARD                                       object\n",
       "DETAILS                                    object\n",
       "GLOBALID                                   object\n",
       "dtype: object"
      ]
     },
     "execution_count": 72,
     "metadata": {},
     "output_type": "execute_result"
    }
   ],
   "source": [
    "# Converting the Objects to datetime for the date realted columns:\n",
    "df['ADDDATE'] = pd.to_datetime(df['ADDDATE'])\n",
    "df['RESOLUTIONDATE'] = pd.to_datetime(df['RESOLUTIONDATE'])\n",
    "df['SERVICEDUEDATE'] = pd.to_datetime(df['SERVICEDUEDATE'])\n",
    "df['SERVICEORDERDATE'] = pd.to_datetime(df['SERVICEORDERDATE'])\n",
    "\n",
    "df.dtypes"
   ]
  },
  {
   "cell_type": "code",
   "execution_count": 73,
   "id": "aeb3f364",
   "metadata": {},
   "outputs": [
    {
     "data": {
      "text/html": [
       "<div>\n",
       "<style scoped>\n",
       "    .dataframe tbody tr th:only-of-type {\n",
       "        vertical-align: middle;\n",
       "    }\n",
       "\n",
       "    .dataframe tbody tr th {\n",
       "        vertical-align: top;\n",
       "    }\n",
       "\n",
       "    .dataframe thead th {\n",
       "        text-align: right;\n",
       "    }\n",
       "</style>\n",
       "<table border=\"1\" class=\"dataframe\">\n",
       "  <thead>\n",
       "    <tr style=\"text-align: right;\">\n",
       "      <th></th>\n",
       "      <th>X</th>\n",
       "      <th>Y</th>\n",
       "      <th>OBJECTID</th>\n",
       "      <th>SERVICECODE</th>\n",
       "      <th>SERVICECODEDESCRIPTION</th>\n",
       "      <th>SERVICETYPECODEDESCRIPTION</th>\n",
       "      <th>ORGANIZATIONACRONYM</th>\n",
       "      <th>ADDDATE</th>\n",
       "      <th>RESOLUTIONDATE</th>\n",
       "      <th>SERVICEDUEDATE</th>\n",
       "      <th>...</th>\n",
       "      <th>LATITUDE</th>\n",
       "      <th>LONGITUDE</th>\n",
       "      <th>CITY</th>\n",
       "      <th>STATE</th>\n",
       "      <th>ZIPCODE</th>\n",
       "      <th>MARADDRESSREPOSITORYID</th>\n",
       "      <th>WARD</th>\n",
       "      <th>DETAILS</th>\n",
       "      <th>GLOBALID</th>\n",
       "      <th>Timespan</th>\n",
       "    </tr>\n",
       "  </thead>\n",
       "  <tbody>\n",
       "    <tr>\n",
       "      <th>0</th>\n",
       "      <td>-77.014822</td>\n",
       "      <td>38.914546</td>\n",
       "      <td>9591692</td>\n",
       "      <td>S0031</td>\n",
       "      <td>Bulk Collection</td>\n",
       "      <td>SWMA- Solid Waste Management Admistration</td>\n",
       "      <td>DPW</td>\n",
       "      <td>2021-01-01 05:32:05+00:00</td>\n",
       "      <td>2021-01-06 15:34:42+00:00</td>\n",
       "      <td>2021-01-06 23:59:00+00:00</td>\n",
       "      <td>...</td>\n",
       "      <td>38.914538</td>\n",
       "      <td>-77.014820</td>\n",
       "      <td>WASHINGTON</td>\n",
       "      <td>DC</td>\n",
       "      <td>20001.0</td>\n",
       "      <td>230050</td>\n",
       "      <td>5</td>\n",
       "      <td>NaN</td>\n",
       "      <td>{B7D1802E-75AA-7CDF-E053-532F520AE3B3}</td>\n",
       "      <td>468157.0</td>\n",
       "    </tr>\n",
       "    <tr>\n",
       "      <th>1</th>\n",
       "      <td>-76.995047</td>\n",
       "      <td>38.853735</td>\n",
       "      <td>9591693</td>\n",
       "      <td>BICYCLE</td>\n",
       "      <td>Abandoned Bicycle</td>\n",
       "      <td>SWMA- Solid Waste Management Admistration</td>\n",
       "      <td>DPW</td>\n",
       "      <td>2021-01-01 05:06:02+00:00</td>\n",
       "      <td>2021-01-01 05:07:01+00:00</td>\n",
       "      <td>2021-01-09 04:59:00+00:00</td>\n",
       "      <td>...</td>\n",
       "      <td>38.853728</td>\n",
       "      <td>-76.995045</td>\n",
       "      <td>WASHINGTON</td>\n",
       "      <td>DC</td>\n",
       "      <td>20032.0</td>\n",
       "      <td>301360</td>\n",
       "      <td>8</td>\n",
       "      <td>NaN</td>\n",
       "      <td>{B7D1802E-75AB-7CDF-E053-532F520AE3B3}</td>\n",
       "      <td>59.0</td>\n",
       "    </tr>\n",
       "    <tr>\n",
       "      <th>2</th>\n",
       "      <td>-77.024386</td>\n",
       "      <td>38.946008</td>\n",
       "      <td>9591695</td>\n",
       "      <td>S05SL</td>\n",
       "      <td>Streetlight Repair Investigation</td>\n",
       "      <td>Transportation Operations Administration</td>\n",
       "      <td>DDOT</td>\n",
       "      <td>2021-01-01 05:33:08+00:00</td>\n",
       "      <td>2021-01-05 05:55:04+00:00</td>\n",
       "      <td>2021-01-12 05:33:08+00:00</td>\n",
       "      <td>...</td>\n",
       "      <td>38.946000</td>\n",
       "      <td>-77.024384</td>\n",
       "      <td>WASHINGTON</td>\n",
       "      <td>DC</td>\n",
       "      <td>20011.0</td>\n",
       "      <td>252336</td>\n",
       "      <td>4</td>\n",
       "      <td>NaN</td>\n",
       "      <td>{B7D1802E-75AD-7CDF-E053-532F520AE3B3}</td>\n",
       "      <td>346916.0</td>\n",
       "    </tr>\n",
       "    <tr>\n",
       "      <th>3</th>\n",
       "      <td>-76.942117</td>\n",
       "      <td>38.878522</td>\n",
       "      <td>9591696</td>\n",
       "      <td>S0031</td>\n",
       "      <td>Bulk Collection</td>\n",
       "      <td>SWMA- Solid Waste Management Admistration</td>\n",
       "      <td>DPW</td>\n",
       "      <td>2021-01-01 11:58:18+00:00</td>\n",
       "      <td>2021-01-04 12:54:36+00:00</td>\n",
       "      <td>2021-01-05 04:59:00+00:00</td>\n",
       "      <td>...</td>\n",
       "      <td>38.878514</td>\n",
       "      <td>-76.942115</td>\n",
       "      <td>WASHINGTON</td>\n",
       "      <td>DC</td>\n",
       "      <td>20019.0</td>\n",
       "      <td>24709</td>\n",
       "      <td>7</td>\n",
       "      <td>NaN</td>\n",
       "      <td>{B7D764C0-4508-BB8F-E053-532F520A63E8}</td>\n",
       "      <td>262578.0</td>\n",
       "    </tr>\n",
       "    <tr>\n",
       "      <th>4</th>\n",
       "      <td>-77.083344</td>\n",
       "      <td>38.946074</td>\n",
       "      <td>9591903</td>\n",
       "      <td>S05SL</td>\n",
       "      <td>Streetlight Repair Investigation</td>\n",
       "      <td>Transportation Operations Administration</td>\n",
       "      <td>DDOT</td>\n",
       "      <td>2021-01-01 06:05:25+00:00</td>\n",
       "      <td>2021-01-26 21:40:13+00:00</td>\n",
       "      <td>2021-01-12 06:05:25+00:00</td>\n",
       "      <td>...</td>\n",
       "      <td>38.946067</td>\n",
       "      <td>-77.083342</td>\n",
       "      <td>WASHINGTON</td>\n",
       "      <td>DC</td>\n",
       "      <td>20016.0</td>\n",
       "      <td>266186</td>\n",
       "      <td>3</td>\n",
       "      <td>NaN</td>\n",
       "      <td>{B7D25EBE-F302-E2F7-E053-542F520AD49B}</td>\n",
       "      <td>2216088.0</td>\n",
       "    </tr>\n",
       "  </tbody>\n",
       "</table>\n",
       "<p>5 rows × 27 columns</p>\n",
       "</div>"
      ],
      "text/plain": [
       "           X          Y  OBJECTID SERVICECODE  \\\n",
       "0 -77.014822  38.914546   9591692       S0031   \n",
       "1 -76.995047  38.853735   9591693     BICYCLE   \n",
       "2 -77.024386  38.946008   9591695       S05SL   \n",
       "3 -76.942117  38.878522   9591696       S0031   \n",
       "4 -77.083344  38.946074   9591903       S05SL   \n",
       "\n",
       "             SERVICECODEDESCRIPTION  \\\n",
       "0                   Bulk Collection   \n",
       "1                 Abandoned Bicycle   \n",
       "2  Streetlight Repair Investigation   \n",
       "3                   Bulk Collection   \n",
       "4  Streetlight Repair Investigation   \n",
       "\n",
       "                  SERVICETYPECODEDESCRIPTION ORGANIZATIONACRONYM  \\\n",
       "0  SWMA- Solid Waste Management Admistration                 DPW   \n",
       "1  SWMA- Solid Waste Management Admistration                 DPW   \n",
       "2   Transportation Operations Administration                DDOT   \n",
       "3  SWMA- Solid Waste Management Admistration                 DPW   \n",
       "4   Transportation Operations Administration                DDOT   \n",
       "\n",
       "                    ADDDATE            RESOLUTIONDATE  \\\n",
       "0 2021-01-01 05:32:05+00:00 2021-01-06 15:34:42+00:00   \n",
       "1 2021-01-01 05:06:02+00:00 2021-01-01 05:07:01+00:00   \n",
       "2 2021-01-01 05:33:08+00:00 2021-01-05 05:55:04+00:00   \n",
       "3 2021-01-01 11:58:18+00:00 2021-01-04 12:54:36+00:00   \n",
       "4 2021-01-01 06:05:25+00:00 2021-01-26 21:40:13+00:00   \n",
       "\n",
       "             SERVICEDUEDATE  ...   LATITUDE  LONGITUDE        CITY STATE  \\\n",
       "0 2021-01-06 23:59:00+00:00  ...  38.914538 -77.014820  WASHINGTON    DC   \n",
       "1 2021-01-09 04:59:00+00:00  ...  38.853728 -76.995045  WASHINGTON    DC   \n",
       "2 2021-01-12 05:33:08+00:00  ...  38.946000 -77.024384  WASHINGTON    DC   \n",
       "3 2021-01-05 04:59:00+00:00  ...  38.878514 -76.942115  WASHINGTON    DC   \n",
       "4 2021-01-12 06:05:25+00:00  ...  38.946067 -77.083342  WASHINGTON    DC   \n",
       "\n",
       "   ZIPCODE  MARADDRESSREPOSITORYID  WARD  DETAILS  \\\n",
       "0  20001.0                  230050     5      NaN   \n",
       "1  20032.0                  301360     8      NaN   \n",
       "2  20011.0                  252336     4      NaN   \n",
       "3  20019.0                   24709     7      NaN   \n",
       "4  20016.0                  266186     3      NaN   \n",
       "\n",
       "                                 GLOBALID   Timespan  \n",
       "0  {B7D1802E-75AA-7CDF-E053-532F520AE3B3}   468157.0  \n",
       "1  {B7D1802E-75AB-7CDF-E053-532F520AE3B3}       59.0  \n",
       "2  {B7D1802E-75AD-7CDF-E053-532F520AE3B3}   346916.0  \n",
       "3  {B7D764C0-4508-BB8F-E053-532F520A63E8}   262578.0  \n",
       "4  {B7D25EBE-F302-E2F7-E053-542F520AD49B}  2216088.0  \n",
       "\n",
       "[5 rows x 27 columns]"
      ]
     },
     "execution_count": 73,
     "metadata": {},
     "output_type": "execute_result"
    }
   ],
   "source": [
    "# Adding a new column: (target) Timespan to get the timespan of the request completion \n",
    "df['Timespan'] = (df['RESOLUTIONDATE'] - df['ADDDATE']).dt.total_seconds()\n",
    "df.head()"
   ]
  },
  {
   "cell_type": "code",
   "execution_count": 74,
   "id": "bb802667",
   "metadata": {},
   "outputs": [],
   "source": [
    "import pandas as pd\n",
    "df = df.dropna(subset=['RESOLUTIONDATE'])"
   ]
  },
  {
   "cell_type": "code",
   "execution_count": 75,
   "id": "4554bf0e",
   "metadata": {},
   "outputs": [
    {
     "data": {
      "text/html": [
       "<div>\n",
       "<style scoped>\n",
       "    .dataframe tbody tr th:only-of-type {\n",
       "        vertical-align: middle;\n",
       "    }\n",
       "\n",
       "    .dataframe tbody tr th {\n",
       "        vertical-align: top;\n",
       "    }\n",
       "\n",
       "    .dataframe thead th {\n",
       "        text-align: right;\n",
       "    }\n",
       "</style>\n",
       "<table border=\"1\" class=\"dataframe\">\n",
       "  <thead>\n",
       "    <tr style=\"text-align: right;\">\n",
       "      <th></th>\n",
       "      <th>X</th>\n",
       "      <th>Y</th>\n",
       "      <th>OBJECTID</th>\n",
       "      <th>SERVICECODE</th>\n",
       "      <th>SERVICECODEDESCRIPTION</th>\n",
       "      <th>SERVICETYPECODEDESCRIPTION</th>\n",
       "      <th>ORGANIZATIONACRONYM</th>\n",
       "      <th>ADDDATE</th>\n",
       "      <th>RESOLUTIONDATE</th>\n",
       "      <th>SERVICEDUEDATE</th>\n",
       "      <th>...</th>\n",
       "      <th>LATITUDE</th>\n",
       "      <th>LONGITUDE</th>\n",
       "      <th>CITY</th>\n",
       "      <th>STATE</th>\n",
       "      <th>ZIPCODE</th>\n",
       "      <th>MARADDRESSREPOSITORYID</th>\n",
       "      <th>WARD</th>\n",
       "      <th>DETAILS</th>\n",
       "      <th>GLOBALID</th>\n",
       "      <th>Timespan</th>\n",
       "    </tr>\n",
       "  </thead>\n",
       "  <tbody>\n",
       "    <tr>\n",
       "      <th>0</th>\n",
       "      <td>-77.014822</td>\n",
       "      <td>38.914546</td>\n",
       "      <td>9591692</td>\n",
       "      <td>S0031</td>\n",
       "      <td>Bulk Collection</td>\n",
       "      <td>SWMA- Solid Waste Management Admistration</td>\n",
       "      <td>DPW</td>\n",
       "      <td>1563.0</td>\n",
       "      <td>469661.0</td>\n",
       "      <td>2021-01-06 23:59:00+00:00</td>\n",
       "      <td>...</td>\n",
       "      <td>38.914538</td>\n",
       "      <td>-77.014820</td>\n",
       "      <td>WASHINGTON</td>\n",
       "      <td>DC</td>\n",
       "      <td>20001.0</td>\n",
       "      <td>230050</td>\n",
       "      <td>5</td>\n",
       "      <td>NaN</td>\n",
       "      <td>{B7D1802E-75AA-7CDF-E053-532F520AE3B3}</td>\n",
       "      <td>468157.0</td>\n",
       "    </tr>\n",
       "    <tr>\n",
       "      <th>1</th>\n",
       "      <td>-76.995047</td>\n",
       "      <td>38.853735</td>\n",
       "      <td>9591693</td>\n",
       "      <td>BICYCLE</td>\n",
       "      <td>Abandoned Bicycle</td>\n",
       "      <td>SWMA- Solid Waste Management Admistration</td>\n",
       "      <td>DPW</td>\n",
       "      <td>0.0</td>\n",
       "      <td>0.0</td>\n",
       "      <td>2021-01-09 04:59:00+00:00</td>\n",
       "      <td>...</td>\n",
       "      <td>38.853728</td>\n",
       "      <td>-76.995045</td>\n",
       "      <td>WASHINGTON</td>\n",
       "      <td>DC</td>\n",
       "      <td>20032.0</td>\n",
       "      <td>301360</td>\n",
       "      <td>8</td>\n",
       "      <td>NaN</td>\n",
       "      <td>{B7D1802E-75AB-7CDF-E053-532F520AE3B3}</td>\n",
       "      <td>59.0</td>\n",
       "    </tr>\n",
       "    <tr>\n",
       "      <th>2</th>\n",
       "      <td>-77.024386</td>\n",
       "      <td>38.946008</td>\n",
       "      <td>9591695</td>\n",
       "      <td>S05SL</td>\n",
       "      <td>Streetlight Repair Investigation</td>\n",
       "      <td>Transportation Operations Administration</td>\n",
       "      <td>DDOT</td>\n",
       "      <td>1626.0</td>\n",
       "      <td>348483.0</td>\n",
       "      <td>2021-01-12 05:33:08+00:00</td>\n",
       "      <td>...</td>\n",
       "      <td>38.946000</td>\n",
       "      <td>-77.024384</td>\n",
       "      <td>WASHINGTON</td>\n",
       "      <td>DC</td>\n",
       "      <td>20011.0</td>\n",
       "      <td>252336</td>\n",
       "      <td>4</td>\n",
       "      <td>NaN</td>\n",
       "      <td>{B7D1802E-75AD-7CDF-E053-532F520AE3B3}</td>\n",
       "      <td>346916.0</td>\n",
       "    </tr>\n",
       "    <tr>\n",
       "      <th>3</th>\n",
       "      <td>-76.942117</td>\n",
       "      <td>38.878522</td>\n",
       "      <td>9591696</td>\n",
       "      <td>S0031</td>\n",
       "      <td>Bulk Collection</td>\n",
       "      <td>SWMA- Solid Waste Management Admistration</td>\n",
       "      <td>DPW</td>\n",
       "      <td>24736.0</td>\n",
       "      <td>287255.0</td>\n",
       "      <td>2021-01-05 04:59:00+00:00</td>\n",
       "      <td>...</td>\n",
       "      <td>38.878514</td>\n",
       "      <td>-76.942115</td>\n",
       "      <td>WASHINGTON</td>\n",
       "      <td>DC</td>\n",
       "      <td>20019.0</td>\n",
       "      <td>24709</td>\n",
       "      <td>7</td>\n",
       "      <td>NaN</td>\n",
       "      <td>{B7D764C0-4508-BB8F-E053-532F520A63E8}</td>\n",
       "      <td>262578.0</td>\n",
       "    </tr>\n",
       "    <tr>\n",
       "      <th>4</th>\n",
       "      <td>-77.083344</td>\n",
       "      <td>38.946074</td>\n",
       "      <td>9591903</td>\n",
       "      <td>S05SL</td>\n",
       "      <td>Streetlight Repair Investigation</td>\n",
       "      <td>Transportation Operations Administration</td>\n",
       "      <td>DDOT</td>\n",
       "      <td>3563.0</td>\n",
       "      <td>2219592.0</td>\n",
       "      <td>2021-01-12 06:05:25+00:00</td>\n",
       "      <td>...</td>\n",
       "      <td>38.946067</td>\n",
       "      <td>-77.083342</td>\n",
       "      <td>WASHINGTON</td>\n",
       "      <td>DC</td>\n",
       "      <td>20016.0</td>\n",
       "      <td>266186</td>\n",
       "      <td>3</td>\n",
       "      <td>NaN</td>\n",
       "      <td>{B7D25EBE-F302-E2F7-E053-542F520AD49B}</td>\n",
       "      <td>2216088.0</td>\n",
       "    </tr>\n",
       "    <tr>\n",
       "      <th>5</th>\n",
       "      <td>-76.998094</td>\n",
       "      <td>38.961588</td>\n",
       "      <td>9591904</td>\n",
       "      <td>S0031</td>\n",
       "      <td>Bulk Collection</td>\n",
       "      <td>SWMA- Solid Waste Management Admistration</td>\n",
       "      <td>DPW</td>\n",
       "      <td>3216.0</td>\n",
       "      <td>548247.0</td>\n",
       "      <td>2021-01-08 04:59:00+00:00</td>\n",
       "      <td>...</td>\n",
       "      <td>38.961580</td>\n",
       "      <td>-76.998092</td>\n",
       "      <td>WASHINGTON</td>\n",
       "      <td>DC</td>\n",
       "      <td>20011.0</td>\n",
       "      <td>2761</td>\n",
       "      <td>4</td>\n",
       "      <td>NaN</td>\n",
       "      <td>{B7D25EBE-F303-E2F7-E053-542F520AD49B}</td>\n",
       "      <td>545090.0</td>\n",
       "    </tr>\n",
       "    <tr>\n",
       "      <th>6</th>\n",
       "      <td>-76.998934</td>\n",
       "      <td>38.961860</td>\n",
       "      <td>9591905</td>\n",
       "      <td>S0441</td>\n",
       "      <td>Trash Collection - Missed</td>\n",
       "      <td>SWMA- Solid Waste Management Admistration</td>\n",
       "      <td>DPW</td>\n",
       "      <td>3355.0</td>\n",
       "      <td>132911.0</td>\n",
       "      <td>2021-01-05 06:01:57+00:00</td>\n",
       "      <td>...</td>\n",
       "      <td>38.961852</td>\n",
       "      <td>-76.998932</td>\n",
       "      <td>WASHINGTON</td>\n",
       "      <td>DC</td>\n",
       "      <td>20011.0</td>\n",
       "      <td>5538</td>\n",
       "      <td>4</td>\n",
       "      <td>NaN</td>\n",
       "      <td>{B7D25EBE-F304-E2F7-E053-542F520AD49B}</td>\n",
       "      <td>129615.0</td>\n",
       "    </tr>\n",
       "    <tr>\n",
       "      <th>7</th>\n",
       "      <td>-77.024037</td>\n",
       "      <td>38.950293</td>\n",
       "      <td>9591906</td>\n",
       "      <td>S0031</td>\n",
       "      <td>Bulk Collection</td>\n",
       "      <td>SWMA- Solid Waste Management Admistration</td>\n",
       "      <td>DPW</td>\n",
       "      <td>34988.0</td>\n",
       "      <td>552442.0</td>\n",
       "      <td>2021-01-07 23:59:00+00:00</td>\n",
       "      <td>...</td>\n",
       "      <td>38.950285</td>\n",
       "      <td>-77.024035</td>\n",
       "      <td>WASHINGTON</td>\n",
       "      <td>DC</td>\n",
       "      <td>20011.0</td>\n",
       "      <td>251903</td>\n",
       "      <td>4</td>\n",
       "      <td>NaN</td>\n",
       "      <td>{B7D91AC0-3906-F9B3-E053-542F520A2FDD}</td>\n",
       "      <td>517513.0</td>\n",
       "    </tr>\n",
       "    <tr>\n",
       "      <th>8</th>\n",
       "      <td>-77.040372</td>\n",
       "      <td>38.921705</td>\n",
       "      <td>9591907</td>\n",
       "      <td>S0031</td>\n",
       "      <td>Bulk Collection</td>\n",
       "      <td>SWMA- Solid Waste Management Admistration</td>\n",
       "      <td>DPW</td>\n",
       "      <td>33473.0</td>\n",
       "      <td>461249.0</td>\n",
       "      <td>2021-01-07 04:59:00+00:00</td>\n",
       "      <td>...</td>\n",
       "      <td>38.921697</td>\n",
       "      <td>-77.040369</td>\n",
       "      <td>WASHINGTON</td>\n",
       "      <td>DC</td>\n",
       "      <td>20009.0</td>\n",
       "      <td>235663</td>\n",
       "      <td>1</td>\n",
       "      <td>NaN</td>\n",
       "      <td>{B7D91AC0-3907-F9B3-E053-542F520A2FDD}</td>\n",
       "      <td>427835.0</td>\n",
       "    </tr>\n",
       "    <tr>\n",
       "      <th>9</th>\n",
       "      <td>-76.949960</td>\n",
       "      <td>38.902276</td>\n",
       "      <td>9591908</td>\n",
       "      <td>S0261</td>\n",
       "      <td>Parking Enforcement</td>\n",
       "      <td>PEMA- Parking Enforcement Management Administr...</td>\n",
       "      <td>DPW</td>\n",
       "      <td>31813.0</td>\n",
       "      <td>33554.0</td>\n",
       "      <td>2021-01-04 13:56:15+00:00</td>\n",
       "      <td>...</td>\n",
       "      <td>38.902268</td>\n",
       "      <td>-76.949958</td>\n",
       "      <td>WASHINGTON</td>\n",
       "      <td>DC</td>\n",
       "      <td>20019.0</td>\n",
       "      <td>309256</td>\n",
       "      <td>7</td>\n",
       "      <td>NaN</td>\n",
       "      <td>{B7D91AC0-3908-F9B3-E053-542F520A2FDD}</td>\n",
       "      <td>1800.0</td>\n",
       "    </tr>\n",
       "  </tbody>\n",
       "</table>\n",
       "<p>10 rows × 27 columns</p>\n",
       "</div>"
      ],
      "text/plain": [
       "           X          Y  OBJECTID SERVICECODE  \\\n",
       "0 -77.014822  38.914546   9591692       S0031   \n",
       "1 -76.995047  38.853735   9591693     BICYCLE   \n",
       "2 -77.024386  38.946008   9591695       S05SL   \n",
       "3 -76.942117  38.878522   9591696       S0031   \n",
       "4 -77.083344  38.946074   9591903       S05SL   \n",
       "5 -76.998094  38.961588   9591904       S0031   \n",
       "6 -76.998934  38.961860   9591905       S0441   \n",
       "7 -77.024037  38.950293   9591906       S0031   \n",
       "8 -77.040372  38.921705   9591907       S0031   \n",
       "9 -76.949960  38.902276   9591908       S0261   \n",
       "\n",
       "             SERVICECODEDESCRIPTION  \\\n",
       "0                   Bulk Collection   \n",
       "1                 Abandoned Bicycle   \n",
       "2  Streetlight Repair Investigation   \n",
       "3                   Bulk Collection   \n",
       "4  Streetlight Repair Investigation   \n",
       "5                   Bulk Collection   \n",
       "6         Trash Collection - Missed   \n",
       "7                   Bulk Collection   \n",
       "8                   Bulk Collection   \n",
       "9               Parking Enforcement   \n",
       "\n",
       "                          SERVICETYPECODEDESCRIPTION ORGANIZATIONACRONYM  \\\n",
       "0          SWMA- Solid Waste Management Admistration                 DPW   \n",
       "1          SWMA- Solid Waste Management Admistration                 DPW   \n",
       "2           Transportation Operations Administration                DDOT   \n",
       "3          SWMA- Solid Waste Management Admistration                 DPW   \n",
       "4           Transportation Operations Administration                DDOT   \n",
       "5          SWMA- Solid Waste Management Admistration                 DPW   \n",
       "6          SWMA- Solid Waste Management Admistration                 DPW   \n",
       "7          SWMA- Solid Waste Management Admistration                 DPW   \n",
       "8          SWMA- Solid Waste Management Admistration                 DPW   \n",
       "9  PEMA- Parking Enforcement Management Administr...                 DPW   \n",
       "\n",
       "   ADDDATE  RESOLUTIONDATE            SERVICEDUEDATE  ...   LATITUDE  \\\n",
       "0   1563.0        469661.0 2021-01-06 23:59:00+00:00  ...  38.914538   \n",
       "1      0.0             0.0 2021-01-09 04:59:00+00:00  ...  38.853728   \n",
       "2   1626.0        348483.0 2021-01-12 05:33:08+00:00  ...  38.946000   \n",
       "3  24736.0        287255.0 2021-01-05 04:59:00+00:00  ...  38.878514   \n",
       "4   3563.0       2219592.0 2021-01-12 06:05:25+00:00  ...  38.946067   \n",
       "5   3216.0        548247.0 2021-01-08 04:59:00+00:00  ...  38.961580   \n",
       "6   3355.0        132911.0 2021-01-05 06:01:57+00:00  ...  38.961852   \n",
       "7  34988.0        552442.0 2021-01-07 23:59:00+00:00  ...  38.950285   \n",
       "8  33473.0        461249.0 2021-01-07 04:59:00+00:00  ...  38.921697   \n",
       "9  31813.0         33554.0 2021-01-04 13:56:15+00:00  ...  38.902268   \n",
       "\n",
       "   LONGITUDE        CITY STATE  ZIPCODE  MARADDRESSREPOSITORYID  WARD  \\\n",
       "0 -77.014820  WASHINGTON    DC  20001.0                  230050     5   \n",
       "1 -76.995045  WASHINGTON    DC  20032.0                  301360     8   \n",
       "2 -77.024384  WASHINGTON    DC  20011.0                  252336     4   \n",
       "3 -76.942115  WASHINGTON    DC  20019.0                   24709     7   \n",
       "4 -77.083342  WASHINGTON    DC  20016.0                  266186     3   \n",
       "5 -76.998092  WASHINGTON    DC  20011.0                    2761     4   \n",
       "6 -76.998932  WASHINGTON    DC  20011.0                    5538     4   \n",
       "7 -77.024035  WASHINGTON    DC  20011.0                  251903     4   \n",
       "8 -77.040369  WASHINGTON    DC  20009.0                  235663     1   \n",
       "9 -76.949958  WASHINGTON    DC  20019.0                  309256     7   \n",
       "\n",
       "   DETAILS                                GLOBALID   Timespan  \n",
       "0      NaN  {B7D1802E-75AA-7CDF-E053-532F520AE3B3}   468157.0  \n",
       "1      NaN  {B7D1802E-75AB-7CDF-E053-532F520AE3B3}       59.0  \n",
       "2      NaN  {B7D1802E-75AD-7CDF-E053-532F520AE3B3}   346916.0  \n",
       "3      NaN  {B7D764C0-4508-BB8F-E053-532F520A63E8}   262578.0  \n",
       "4      NaN  {B7D25EBE-F302-E2F7-E053-542F520AD49B}  2216088.0  \n",
       "5      NaN  {B7D25EBE-F303-E2F7-E053-542F520AD49B}   545090.0  \n",
       "6      NaN  {B7D25EBE-F304-E2F7-E053-542F520AD49B}   129615.0  \n",
       "7      NaN  {B7D91AC0-3906-F9B3-E053-542F520A2FDD}   517513.0  \n",
       "8      NaN  {B7D91AC0-3907-F9B3-E053-542F520A2FDD}   427835.0  \n",
       "9      NaN  {B7D91AC0-3908-F9B3-E053-542F520A2FDD}     1800.0  \n",
       "\n",
       "[10 rows x 27 columns]"
      ]
     },
     "execution_count": 75,
     "metadata": {},
     "output_type": "execute_result"
    }
   ],
   "source": [
    "# As our target variable (timespan) is Float, to get the corelation between the ADDDATE and RESOLUTIONDATE,\n",
    "# We are considering the minimum date of ADDDATE and substracting it from each ADDDATE record. \n",
    "#Similarlly for the RESOLUTIONDATE column\n",
    "\n",
    "df['ADDDATE'] = (df['ADDDATE'] - df['ADDDATE'].min()).dt.total_seconds()\n",
    "df['RESOLUTIONDATE'] = (df['RESOLUTIONDATE'] - df['RESOLUTIONDATE'].min()).dt.total_seconds()\n",
    "df.head(10)"
   ]
  },
  {
   "cell_type": "code",
   "execution_count": 76,
   "id": "2ed113bc",
   "metadata": {},
   "outputs": [
    {
     "name": "stderr",
     "output_type": "stream",
     "text": [
      "C:\\Users\\manis\\AppData\\Local\\Temp\\ipykernel_41904\\1388245008.py:2: FutureWarning: The default value of numeric_only in DataFrame.corr is deprecated. In a future version, it will default to False. Select only valid columns or specify the value of numeric_only to silence this warning.\n",
      "  correlations = df.corr()\n"
     ]
    }
   ],
   "source": [
    "# Finding the correlation between the features with the target variable \"Timespan\"\n",
    "correlations = df.corr()\n",
    "target_correlations = correlations[\"Timespan\"].sort_values(ascending=False)"
   ]
  },
  {
   "cell_type": "code",
   "execution_count": 77,
   "id": "136bf422",
   "metadata": {},
   "outputs": [
    {
     "data": {
      "text/plain": [
       "Timespan                  1.000000\n",
       "RESOLUTIONDATE            0.626679\n",
       "MARADDRESSREPOSITORYID    0.108932\n",
       "YCOORD                    0.053529\n",
       "Y                         0.053528\n",
       "LATITUDE                  0.053527\n",
       "ZIPCODE                  -0.014691\n",
       "OBJECTID                 -0.019585\n",
       "ADDDATE                  -0.030313\n",
       "XCOORD                   -0.035173\n",
       "Name: Timespan, dtype: float64"
      ]
     },
     "execution_count": 77,
     "metadata": {},
     "output_type": "execute_result"
    }
   ],
   "source": [
    "target_correlations.head(10)"
   ]
  },
  {
   "cell_type": "code",
   "execution_count": 78,
   "id": "80aa7483",
   "metadata": {},
   "outputs": [
    {
     "data": {
      "image/png": "[encoded data removed]",
      "text/plain": [
       "<Figure size 1200x800 with 2 Axes>"
      ]
     },
     "metadata": {},
     "output_type": "display_data"
    }
   ],
   "source": [
    "plt.figure(figsize=(12, 8))\n",
    "sns.heatmap(correlations, annot=True, cmap='coolwarm')\n",
    "plt.show()"
   ]
  },
  {
   "cell_type": "code",
   "execution_count": 129,
   "id": "1f5285be",
   "metadata": {},
   "outputs": [],
   "source": [
    "# Defining the features and the target of the model\n",
    "X = df[['ADDDATE', 'RESOLUTIONDATE']] # Features\n",
    "y = df.Timespan # Target"
   ]
  },
  {
   "cell_type": "code",
   "execution_count": null,
   "id": "c28a4f7a",
   "metadata": {},
   "outputs": [],
   "source": []
  },
  {
   "cell_type": "code",
   "execution_count": 108,
   "id": "64e58785",
   "metadata": {},
   "outputs": [],
   "source": [
    "# Breaking the data into train and test subsets\n",
    "from sklearn.model_selection import train_test_split\n",
    "X_train, X_test, y_train, y_test = train_test_split(X, y, test_size=0.3, random_state=3)"
   ]
  },
  {
   "cell_type": "code",
   "execution_count": 109,
   "id": "2b68641d",
   "metadata": {},
   "outputs": [
    {
     "name": "stdout",
     "output_type": "stream",
     "text": [
      "           ADDDATE  RESOLUTIONDATE\n",
      "21626    2798569.0       3325046.0\n",
      "237048  21497768.0      22138866.0\n",
      "209625  19463632.0      19475338.0\n",
      "217149  19933460.0      22626121.0\n",
      "49063    5744844.0       5921198.0\n",
      "...            ...             ...\n",
      "11357    1454670.0       7893436.0\n",
      "48496    5684052.0       6075436.0\n",
      "77924    8715727.0      16906911.0\n",
      "200740  18774945.0      18776820.0\n",
      "72331    8153300.0       8753362.0\n",
      "\n",
      "[249589 rows x 2 columns]\n"
     ]
    }
   ],
   "source": [
    "print(X_train)"
   ]
  },
  {
   "cell_type": "code",
   "execution_count": 110,
   "id": "7d2c7803",
   "metadata": {},
   "outputs": [
    {
     "name": "stdout",
     "output_type": "stream",
     "text": [
      "21626      526536.0\n",
      "237048     641157.0\n",
      "209625      11765.0\n",
      "217149    2692720.0\n",
      "49063      176413.0\n",
      "            ...    \n",
      "11357     6438825.0\n",
      "48496      391443.0\n",
      "77924     8191243.0\n",
      "200740       1934.0\n",
      "72331      600121.0\n",
      "Name: Timespan, Length: 249589, dtype: float64\n"
     ]
    }
   ],
   "source": [
    "print(y_train)"
   ]
  },
  {
   "cell_type": "code",
   "execution_count": 111,
   "id": "adb0fbcb",
   "metadata": {},
   "outputs": [
    {
     "name": "stdout",
     "output_type": "stream",
     "text": [
      "R^2 score for train dataset =  1.0 \n",
      "\n",
      "Coefficients of Linear Model: [-1.  1.] \n",
      "\n",
      "Intercept: 58.999999990686774\n"
     ]
    }
   ],
   "source": [
    "# Importing 'LinearRegression' through linear_model module\n",
    "from sklearn.linear_model import LinearRegression\n",
    "reg = LinearRegression() # Instantiate\n",
    "reg.fit(X_train, y_train) # Fit the train data\n",
    "r2_train_score = reg.score(X_train, y_train) # Calculating R^2 score for train\n",
    "print('R^2 score for train dataset = ', round(r2_train_score, 4), '\\n')\n",
    "print('Coefficients of Linear Model:', reg.coef_, '\\n')\n",
    "print('Intercept:', reg.intercept_)"
   ]
  },
  {
   "cell_type": "code",
   "execution_count": 112,
   "id": "11d40828",
   "metadata": {},
   "outputs": [
    {
     "data": {
      "text/plain": [
       "array([7.6631500e+05, 5.1800000e+03, 2.6713400e+05, 3.2380000e+03,\n",
       "       2.8250130e+06, 9.6342400e+05, 2.6608784e+07, 9.5538000e+04,\n",
       "       8.4747000e+04, 1.7430900e+05])"
      ]
     },
     "execution_count": 112,
     "metadata": {},
     "output_type": "execute_result"
    }
   ],
   "source": [
    "# Finding the predictions of the model for test dataset\n",
    "y_pred = reg.predict(X_test)\n",
    "y_pred[:10] # Representing the price prediction for the first 10 data points in test dataset"
   ]
  },
  {
   "cell_type": "code",
   "execution_count": 113,
   "id": "6b114e6a",
   "metadata": {},
   "outputs": [
    {
     "name": "stdout",
     "output_type": "stream",
     "text": [
      "R^2 score for test dataset =  1.0 \n",
      "\n"
     ]
    }
   ],
   "source": [
    "# Evaluating the performance of the model on the test dataset\n",
    "r2_test_score = reg.score(X_test, y_test) # Calculating R^2 score for train\n",
    "print('R^2 score for test dataset = ', round(r2_test_score, 4), '\\n')"
   ]
  },
  {
   "cell_type": "code",
   "execution_count": 114,
   "id": "16ce21f8",
   "metadata": {},
   "outputs": [
    {
     "data": {
      "image/png": "[encoded data removed]",
      "text/plain": [
       "<Figure size 800x500 with 1 Axes>"
      ]
     },
     "metadata": {},
     "output_type": "display_data"
    }
   ],
   "source": [
    "# Let's plot predictions vs ground truth for 'PRICE'\n",
    "fig, ax = plt.subplots(figsize=(8,5))\n",
    "ax.scatter(y_test, y_pred, edgecolors=(0.3, 0.2, 0.7)) # Scatter plot for predictions vs truth\n",
    "ax.plot([y_test.min(), y_test.max()], [y_test.min(), y_test.max()], 'k--', lw=4) # Draw line y=x\n",
    "ax.set_xlabel('Real Timespan')\n",
    "ax.set_ylabel('Predicted Timespan')\n",
    "plt.title('Prediction vs Ground Truth', fontdict=None, loc='center')\n",
    "plt.show()"
   ]
  },
  {
   "cell_type": "markdown",
   "id": "b34db51a",
   "metadata": {},
   "source": [
    "   "
   ]
  },
  {
   "cell_type": "markdown",
   "id": "2548903a",
   "metadata": {},
   "source": [
    "Random forest Regressor"
   ]
  },
  {
   "cell_type": "code",
   "execution_count": 126,
   "id": "1647fdb3",
   "metadata": {},
   "outputs": [],
   "source": [
    "from sklearn.ensemble import RandomForestRegressor"
   ]
  },
  {
   "cell_type": "code",
   "execution_count": 127,
   "id": "5146557e",
   "metadata": {},
   "outputs": [],
   "source": [
    "rf_clf = RandomForestRegressor(n_estimators=100, n_jobs=-1)\n"
   ]
  },
  {
   "cell_type": "code",
   "execution_count": 128,
   "id": "3758cfc8",
   "metadata": {},
   "outputs": [
    {
     "ename": "ValueError",
     "evalue": "could not convert string to float: 'SIGNMISS'",
     "output_type": "error",
     "traceback": [
      "\u001b[1;31m---------------------------------------------------------------------------\u001b[0m",
      "\u001b[1;31mValueError\u001b[0m                                Traceback (most recent call last)",
      "Cell \u001b[1;32mIn[128], line 2\u001b[0m\n\u001b[0;32m      1\u001b[0m \u001b[38;5;66;03m#rf_clf = RandomForestRegressor(max_depth=2, random_state=3)\u001b[39;00m\n\u001b[1;32m----> 2\u001b[0m \u001b[43mrf_clf\u001b[49m\u001b[38;5;241;43m.\u001b[39;49m\u001b[43mfit\u001b[49m\u001b[43m(\u001b[49m\u001b[43mX_train\u001b[49m\u001b[43m,\u001b[49m\u001b[43m \u001b[49m\u001b[43my_train\u001b[49m\u001b[43m)\u001b[49m\n",
      "File \u001b[1;32m~\\anaconda3\\lib\\site-packages\\sklearn\\ensemble\\_forest.py:345\u001b[0m, in \u001b[0;36mBaseForest.fit\u001b[1;34m(self, X, y, sample_weight)\u001b[0m\n\u001b[0;32m    343\u001b[0m \u001b[38;5;28;01mif\u001b[39;00m issparse(y):\n\u001b[0;32m    344\u001b[0m     \u001b[38;5;28;01mraise\u001b[39;00m \u001b[38;5;167;01mValueError\u001b[39;00m(\u001b[38;5;124m\"\u001b[39m\u001b[38;5;124msparse multilabel-indicator for y is not supported.\u001b[39m\u001b[38;5;124m\"\u001b[39m)\n\u001b[1;32m--> 345\u001b[0m X, y \u001b[38;5;241m=\u001b[39m \u001b[38;5;28;43mself\u001b[39;49m\u001b[38;5;241;43m.\u001b[39;49m\u001b[43m_validate_data\u001b[49m\u001b[43m(\u001b[49m\n\u001b[0;32m    346\u001b[0m \u001b[43m    \u001b[49m\u001b[43mX\u001b[49m\u001b[43m,\u001b[49m\u001b[43m \u001b[49m\u001b[43my\u001b[49m\u001b[43m,\u001b[49m\u001b[43m \u001b[49m\u001b[43mmulti_output\u001b[49m\u001b[38;5;241;43m=\u001b[39;49m\u001b[38;5;28;43;01mTrue\u001b[39;49;00m\u001b[43m,\u001b[49m\u001b[43m \u001b[49m\u001b[43maccept_sparse\u001b[49m\u001b[38;5;241;43m=\u001b[39;49m\u001b[38;5;124;43m\"\u001b[39;49m\u001b[38;5;124;43mcsc\u001b[39;49m\u001b[38;5;124;43m\"\u001b[39;49m\u001b[43m,\u001b[49m\u001b[43m \u001b[49m\u001b[43mdtype\u001b[49m\u001b[38;5;241;43m=\u001b[39;49m\u001b[43mDTYPE\u001b[49m\n\u001b[0;32m    347\u001b[0m \u001b[43m\u001b[49m\u001b[43m)\u001b[49m\n\u001b[0;32m    348\u001b[0m \u001b[38;5;28;01mif\u001b[39;00m sample_weight \u001b[38;5;129;01mis\u001b[39;00m \u001b[38;5;129;01mnot\u001b[39;00m \u001b[38;5;28;01mNone\u001b[39;00m:\n\u001b[0;32m    349\u001b[0m     sample_weight \u001b[38;5;241m=\u001b[39m _check_sample_weight(sample_weight, X)\n",
      "File \u001b[1;32m~\\anaconda3\\lib\\site-packages\\sklearn\\base.py:565\u001b[0m, in \u001b[0;36mBaseEstimator._validate_data\u001b[1;34m(self, X, y, reset, validate_separately, **check_params)\u001b[0m\n\u001b[0;32m    563\u001b[0m         y \u001b[38;5;241m=\u001b[39m check_array(y, input_name\u001b[38;5;241m=\u001b[39m\u001b[38;5;124m\"\u001b[39m\u001b[38;5;124my\u001b[39m\u001b[38;5;124m\"\u001b[39m, \u001b[38;5;241m*\u001b[39m\u001b[38;5;241m*\u001b[39mcheck_y_params)\n\u001b[0;32m    564\u001b[0m     \u001b[38;5;28;01melse\u001b[39;00m:\n\u001b[1;32m--> 565\u001b[0m         X, y \u001b[38;5;241m=\u001b[39m check_X_y(X, y, \u001b[38;5;241m*\u001b[39m\u001b[38;5;241m*\u001b[39mcheck_params)\n\u001b[0;32m    566\u001b[0m     out \u001b[38;5;241m=\u001b[39m X, y\n\u001b[0;32m    568\u001b[0m \u001b[38;5;28;01mif\u001b[39;00m \u001b[38;5;129;01mnot\u001b[39;00m no_val_X \u001b[38;5;129;01mand\u001b[39;00m check_params\u001b[38;5;241m.\u001b[39mget(\u001b[38;5;124m\"\u001b[39m\u001b[38;5;124mensure_2d\u001b[39m\u001b[38;5;124m\"\u001b[39m, \u001b[38;5;28;01mTrue\u001b[39;00m):\n",
      "File \u001b[1;32m~\\anaconda3\\lib\\site-packages\\sklearn\\utils\\validation.py:1106\u001b[0m, in \u001b[0;36mcheck_X_y\u001b[1;34m(X, y, accept_sparse, accept_large_sparse, dtype, order, copy, force_all_finite, ensure_2d, allow_nd, multi_output, ensure_min_samples, ensure_min_features, y_numeric, estimator)\u001b[0m\n\u001b[0;32m   1101\u001b[0m         estimator_name \u001b[38;5;241m=\u001b[39m _check_estimator_name(estimator)\n\u001b[0;32m   1102\u001b[0m     \u001b[38;5;28;01mraise\u001b[39;00m \u001b[38;5;167;01mValueError\u001b[39;00m(\n\u001b[0;32m   1103\u001b[0m         \u001b[38;5;124mf\u001b[39m\u001b[38;5;124m\"\u001b[39m\u001b[38;5;132;01m{\u001b[39;00mestimator_name\u001b[38;5;132;01m}\u001b[39;00m\u001b[38;5;124m requires y to be passed, but the target y is None\u001b[39m\u001b[38;5;124m\"\u001b[39m\n\u001b[0;32m   1104\u001b[0m     )\n\u001b[1;32m-> 1106\u001b[0m X \u001b[38;5;241m=\u001b[39m \u001b[43mcheck_array\u001b[49m\u001b[43m(\u001b[49m\n\u001b[0;32m   1107\u001b[0m \u001b[43m    \u001b[49m\u001b[43mX\u001b[49m\u001b[43m,\u001b[49m\n\u001b[0;32m   1108\u001b[0m \u001b[43m    \u001b[49m\u001b[43maccept_sparse\u001b[49m\u001b[38;5;241;43m=\u001b[39;49m\u001b[43maccept_sparse\u001b[49m\u001b[43m,\u001b[49m\n\u001b[0;32m   1109\u001b[0m \u001b[43m    \u001b[49m\u001b[43maccept_large_sparse\u001b[49m\u001b[38;5;241;43m=\u001b[39;49m\u001b[43maccept_large_sparse\u001b[49m\u001b[43m,\u001b[49m\n\u001b[0;32m   1110\u001b[0m \u001b[43m    \u001b[49m\u001b[43mdtype\u001b[49m\u001b[38;5;241;43m=\u001b[39;49m\u001b[43mdtype\u001b[49m\u001b[43m,\u001b[49m\n\u001b[0;32m   1111\u001b[0m \u001b[43m    \u001b[49m\u001b[43morder\u001b[49m\u001b[38;5;241;43m=\u001b[39;49m\u001b[43morder\u001b[49m\u001b[43m,\u001b[49m\n\u001b[0;32m   1112\u001b[0m \u001b[43m    \u001b[49m\u001b[43mcopy\u001b[49m\u001b[38;5;241;43m=\u001b[39;49m\u001b[43mcopy\u001b[49m\u001b[43m,\u001b[49m\n\u001b[0;32m   1113\u001b[0m \u001b[43m    \u001b[49m\u001b[43mforce_all_finite\u001b[49m\u001b[38;5;241;43m=\u001b[39;49m\u001b[43mforce_all_finite\u001b[49m\u001b[43m,\u001b[49m\n\u001b[0;32m   1114\u001b[0m \u001b[43m    \u001b[49m\u001b[43mensure_2d\u001b[49m\u001b[38;5;241;43m=\u001b[39;49m\u001b[43mensure_2d\u001b[49m\u001b[43m,\u001b[49m\n\u001b[0;32m   1115\u001b[0m \u001b[43m    \u001b[49m\u001b[43mallow_nd\u001b[49m\u001b[38;5;241;43m=\u001b[39;49m\u001b[43mallow_nd\u001b[49m\u001b[43m,\u001b[49m\n\u001b[0;32m   1116\u001b[0m \u001b[43m    \u001b[49m\u001b[43mensure_min_samples\u001b[49m\u001b[38;5;241;43m=\u001b[39;49m\u001b[43mensure_min_samples\u001b[49m\u001b[43m,\u001b[49m\n\u001b[0;32m   1117\u001b[0m \u001b[43m    \u001b[49m\u001b[43mensure_min_features\u001b[49m\u001b[38;5;241;43m=\u001b[39;49m\u001b[43mensure_min_features\u001b[49m\u001b[43m,\u001b[49m\n\u001b[0;32m   1118\u001b[0m \u001b[43m    \u001b[49m\u001b[43mestimator\u001b[49m\u001b[38;5;241;43m=\u001b[39;49m\u001b[43mestimator\u001b[49m\u001b[43m,\u001b[49m\n\u001b[0;32m   1119\u001b[0m \u001b[43m    \u001b[49m\u001b[43minput_name\u001b[49m\u001b[38;5;241;43m=\u001b[39;49m\u001b[38;5;124;43m\"\u001b[39;49m\u001b[38;5;124;43mX\u001b[39;49m\u001b[38;5;124;43m\"\u001b[39;49m\u001b[43m,\u001b[49m\n\u001b[0;32m   1120\u001b[0m \u001b[43m\u001b[49m\u001b[43m)\u001b[49m\n\u001b[0;32m   1122\u001b[0m y \u001b[38;5;241m=\u001b[39m _check_y(y, multi_output\u001b[38;5;241m=\u001b[39mmulti_output, y_numeric\u001b[38;5;241m=\u001b[39my_numeric, estimator\u001b[38;5;241m=\u001b[39mestimator)\n\u001b[0;32m   1124\u001b[0m check_consistent_length(X, y)\n",
      "File \u001b[1;32m~\\anaconda3\\lib\\site-packages\\sklearn\\utils\\validation.py:879\u001b[0m, in \u001b[0;36mcheck_array\u001b[1;34m(array, accept_sparse, accept_large_sparse, dtype, order, copy, force_all_finite, ensure_2d, allow_nd, ensure_min_samples, ensure_min_features, estimator, input_name)\u001b[0m\n\u001b[0;32m    877\u001b[0m         array \u001b[38;5;241m=\u001b[39m xp\u001b[38;5;241m.\u001b[39mastype(array, dtype, copy\u001b[38;5;241m=\u001b[39m\u001b[38;5;28;01mFalse\u001b[39;00m)\n\u001b[0;32m    878\u001b[0m     \u001b[38;5;28;01melse\u001b[39;00m:\n\u001b[1;32m--> 879\u001b[0m         array \u001b[38;5;241m=\u001b[39m \u001b[43m_asarray_with_order\u001b[49m\u001b[43m(\u001b[49m\u001b[43marray\u001b[49m\u001b[43m,\u001b[49m\u001b[43m \u001b[49m\u001b[43morder\u001b[49m\u001b[38;5;241;43m=\u001b[39;49m\u001b[43morder\u001b[49m\u001b[43m,\u001b[49m\u001b[43m \u001b[49m\u001b[43mdtype\u001b[49m\u001b[38;5;241;43m=\u001b[39;49m\u001b[43mdtype\u001b[49m\u001b[43m,\u001b[49m\u001b[43m \u001b[49m\u001b[43mxp\u001b[49m\u001b[38;5;241;43m=\u001b[39;49m\u001b[43mxp\u001b[49m\u001b[43m)\u001b[49m\n\u001b[0;32m    880\u001b[0m \u001b[38;5;28;01mexcept\u001b[39;00m ComplexWarning \u001b[38;5;28;01mas\u001b[39;00m complex_warning:\n\u001b[0;32m    881\u001b[0m     \u001b[38;5;28;01mraise\u001b[39;00m \u001b[38;5;167;01mValueError\u001b[39;00m(\n\u001b[0;32m    882\u001b[0m         \u001b[38;5;124m\"\u001b[39m\u001b[38;5;124mComplex data not supported\u001b[39m\u001b[38;5;130;01m\\n\u001b[39;00m\u001b[38;5;132;01m{}\u001b[39;00m\u001b[38;5;130;01m\\n\u001b[39;00m\u001b[38;5;124m\"\u001b[39m\u001b[38;5;241m.\u001b[39mformat(array)\n\u001b[0;32m    883\u001b[0m     ) \u001b[38;5;28;01mfrom\u001b[39;00m \u001b[38;5;21;01mcomplex_warning\u001b[39;00m\n",
      "File \u001b[1;32m~\\anaconda3\\lib\\site-packages\\sklearn\\utils\\_array_api.py:185\u001b[0m, in \u001b[0;36m_asarray_with_order\u001b[1;34m(array, dtype, order, copy, xp)\u001b[0m\n\u001b[0;32m    182\u001b[0m     xp, _ \u001b[38;5;241m=\u001b[39m get_namespace(array)\n\u001b[0;32m    183\u001b[0m \u001b[38;5;28;01mif\u001b[39;00m xp\u001b[38;5;241m.\u001b[39m\u001b[38;5;18m__name__\u001b[39m \u001b[38;5;129;01min\u001b[39;00m {\u001b[38;5;124m\"\u001b[39m\u001b[38;5;124mnumpy\u001b[39m\u001b[38;5;124m\"\u001b[39m, \u001b[38;5;124m\"\u001b[39m\u001b[38;5;124mnumpy.array_api\u001b[39m\u001b[38;5;124m\"\u001b[39m}:\n\u001b[0;32m    184\u001b[0m     \u001b[38;5;66;03m# Use NumPy API to support order\u001b[39;00m\n\u001b[1;32m--> 185\u001b[0m     array \u001b[38;5;241m=\u001b[39m \u001b[43mnumpy\u001b[49m\u001b[38;5;241;43m.\u001b[39;49m\u001b[43masarray\u001b[49m\u001b[43m(\u001b[49m\u001b[43marray\u001b[49m\u001b[43m,\u001b[49m\u001b[43m \u001b[49m\u001b[43morder\u001b[49m\u001b[38;5;241;43m=\u001b[39;49m\u001b[43morder\u001b[49m\u001b[43m,\u001b[49m\u001b[43m \u001b[49m\u001b[43mdtype\u001b[49m\u001b[38;5;241;43m=\u001b[39;49m\u001b[43mdtype\u001b[49m\u001b[43m)\u001b[49m\n\u001b[0;32m    186\u001b[0m     \u001b[38;5;28;01mreturn\u001b[39;00m xp\u001b[38;5;241m.\u001b[39masarray(array, copy\u001b[38;5;241m=\u001b[39mcopy)\n\u001b[0;32m    187\u001b[0m \u001b[38;5;28;01melse\u001b[39;00m:\n",
      "File \u001b[1;32m~\\anaconda3\\lib\\site-packages\\pandas\\core\\generic.py:2070\u001b[0m, in \u001b[0;36mNDFrame.__array__\u001b[1;34m(self, dtype)\u001b[0m\n\u001b[0;32m   2069\u001b[0m \u001b[38;5;28;01mdef\u001b[39;00m \u001b[38;5;21m__array__\u001b[39m(\u001b[38;5;28mself\u001b[39m, dtype: npt\u001b[38;5;241m.\u001b[39mDTypeLike \u001b[38;5;241m|\u001b[39m \u001b[38;5;28;01mNone\u001b[39;00m \u001b[38;5;241m=\u001b[39m \u001b[38;5;28;01mNone\u001b[39;00m) \u001b[38;5;241m-\u001b[39m\u001b[38;5;241m>\u001b[39m np\u001b[38;5;241m.\u001b[39mndarray:\n\u001b[1;32m-> 2070\u001b[0m     \u001b[38;5;28;01mreturn\u001b[39;00m \u001b[43mnp\u001b[49m\u001b[38;5;241;43m.\u001b[39;49m\u001b[43masarray\u001b[49m\u001b[43m(\u001b[49m\u001b[38;5;28;43mself\u001b[39;49m\u001b[38;5;241;43m.\u001b[39;49m\u001b[43m_values\u001b[49m\u001b[43m,\u001b[49m\u001b[43m \u001b[49m\u001b[43mdtype\u001b[49m\u001b[38;5;241;43m=\u001b[39;49m\u001b[43mdtype\u001b[49m\u001b[43m)\u001b[49m\n",
      "\u001b[1;31mValueError\u001b[0m: could not convert string to float: 'SIGNMISS'"
     ]
    }
   ],
   "source": [
    "\n",
    "#rf_clf = RandomForestRegressor(max_depth=2, random_state=3)\n",
    "rf_clf.fit(X_train, y_train)"
   ]
  },
  {
   "cell_type": "code",
   "execution_count": 118,
   "id": "96b73ffe",
   "metadata": {},
   "outputs": [],
   "source": [
    "# Finding the predictions of random forest classifier for train and test subsets\n",
    "train_y_pred = rf_clf.predict(X_train)\n",
    "test_y_pred = rf_clf.predict(X_test)\n"
   ]
  },
  {
   "cell_type": "code",
   "execution_count": 119,
   "id": "3a4f14f7",
   "metadata": {},
   "outputs": [
    {
     "data": {
      "text/plain": [
       "array([5.26476110e+05, 6.44588870e+05, 1.28140800e+04, ...,\n",
       "       8.21913225e+06, 1.40077000e+03, 6.00984620e+05])"
      ]
     },
     "execution_count": 119,
     "metadata": {},
     "output_type": "execute_result"
    }
   ],
   "source": [
    "train_y_pred"
   ]
  },
  {
   "cell_type": "code",
   "execution_count": 120,
   "id": "1f80b510",
   "metadata": {},
   "outputs": [
    {
     "data": {
      "text/plain": [
       "array([765831.47,   4425.97, 266087.68, ...,   7002.08, 256180.47,\n",
       "         3366.03])"
      ]
     },
     "execution_count": 120,
     "metadata": {},
     "output_type": "execute_result"
    }
   ],
   "source": [
    "test_y_pred"
   ]
  },
  {
   "cell_type": "code",
   "execution_count": 121,
   "id": "98daf669",
   "metadata": {},
   "outputs": [
    {
     "name": "stdout",
     "output_type": "stream",
     "text": [
      "R^2 score for train dataset =  1.0 \n",
      "\n",
      "R^2 score for test dataset =  1.0 \n",
      "\n"
     ]
    }
   ],
   "source": [
    "r2_train_score = rf_clf.score(X_train, y_train) # Calculating R^2 score for train\n",
    "r2_test_score = rf_clf.score(X_test, y_test) # Calculating R^2 score for test\n",
    "print('R^2 score for train dataset = ', round(r2_train_score, 4), '\\n')\n",
    "print('R^2 score for test dataset = ', round(r2_test_score, 4), '\\n')\n"
   ]
  },
  {
   "cell_type": "code",
   "execution_count": 122,
   "id": "390f22eb",
   "metadata": {},
   "outputs": [
    {
     "data": {
      "text/html": [
       "<style>#sk-container-id-11 {color: black;background-color: white;}#sk-container-id-11 pre{padding: 0;}#sk-container-id-11 div.sk-toggleable {background-color: white;}#sk-container-id-11 label.sk-toggleable__label {cursor: pointer;display: block;width: 100%;margin-bottom: 0;padding: 0.3em;box-sizing: border-box;text-align: center;}#sk-container-id-11 label.sk-toggleable__label-arrow:before {content: \"▸\";float: left;margin-right: 0.25em;color: #696969;}#sk-container-id-11 label.sk-toggleable__label-arrow:hover:before {color: black;}#sk-container-id-11 div.sk-estimator:hover label.sk-toggleable__label-arrow:before {color: black;}#sk-container-id-11 div.sk-toggleable__content {max-height: 0;max-width: 0;overflow: hidden;text-align: left;background-color: #f0f8ff;}#sk-container-id-11 div.sk-toggleable__content pre {margin: 0.2em;color: black;border-radius: 0.25em;background-color: #f0f8ff;}#sk-container-id-11 input.sk-toggleable__control:checked~div.sk-toggleable__content {max-height: 200px;max-width: 100%;overflow: auto;}#sk-container-id-11 input.sk-toggleable__control:checked~label.sk-toggleable__label-arrow:before {content: \"▾\";}#sk-container-id-11 div.sk-estimator input.sk-toggleable__control:checked~label.sk-toggleable__label {background-color: #d4ebff;}#sk-container-id-11 div.sk-label input.sk-toggleable__control:checked~label.sk-toggleable__label {background-color: #d4ebff;}#sk-container-id-11 input.sk-hidden--visually {border: 0;clip: rect(1px 1px 1px 1px);clip: rect(1px, 1px, 1px, 1px);height: 1px;margin: -1px;overflow: hidden;padding: 0;position: absolute;width: 1px;}#sk-container-id-11 div.sk-estimator {font-family: monospace;background-color: #f0f8ff;border: 1px dotted black;border-radius: 0.25em;box-sizing: border-box;margin-bottom: 0.5em;}#sk-container-id-11 div.sk-estimator:hover {background-color: #d4ebff;}#sk-container-id-11 div.sk-parallel-item::after {content: \"\";width: 100%;border-bottom: 1px solid gray;flex-grow: 1;}#sk-container-id-11 div.sk-label:hover label.sk-toggleable__label {background-color: #d4ebff;}#sk-container-id-11 div.sk-serial::before {content: \"\";position: absolute;border-left: 1px solid gray;box-sizing: border-box;top: 0;bottom: 0;left: 50%;z-index: 0;}#sk-container-id-11 div.sk-serial {display: flex;flex-direction: column;align-items: center;background-color: white;padding-right: 0.2em;padding-left: 0.2em;position: relative;}#sk-container-id-11 div.sk-item {position: relative;z-index: 1;}#sk-container-id-11 div.sk-parallel {display: flex;align-items: stretch;justify-content: center;background-color: white;position: relative;}#sk-container-id-11 div.sk-item::before, #sk-container-id-11 div.sk-parallel-item::before {content: \"\";position: absolute;border-left: 1px solid gray;box-sizing: border-box;top: 0;bottom: 0;left: 50%;z-index: -1;}#sk-container-id-11 div.sk-parallel-item {display: flex;flex-direction: column;z-index: 1;position: relative;background-color: white;}#sk-container-id-11 div.sk-parallel-item:first-child::after {align-self: flex-end;width: 50%;}#sk-container-id-11 div.sk-parallel-item:last-child::after {align-self: flex-start;width: 50%;}#sk-container-id-11 div.sk-parallel-item:only-child::after {width: 0;}#sk-container-id-11 div.sk-dashed-wrapped {border: 1px dashed gray;margin: 0 0.4em 0.5em 0.4em;box-sizing: border-box;padding-bottom: 0.4em;background-color: white;}#sk-container-id-11 div.sk-label label {font-family: monospace;font-weight: bold;display: inline-block;line-height: 1.2em;}#sk-container-id-11 div.sk-label-container {text-align: center;}#sk-container-id-11 div.sk-container {/* jupyter's `normalize.less` sets `[hidden] { display: none; }` but bootstrap.min.css set `[hidden] { display: none !important; }` so we also need the `!important` here to be able to override the default hidden behavior on the sphinx rendered scikit-learn.org. See: https://github.com/scikit-learn/scikit-learn/issues/21755 */display: inline-block !important;position: relative;}#sk-container-id-11 div.sk-text-repr-fallback {display: none;}</style><div id=\"sk-container-id-11\" class=\"sk-top-container\"><div class=\"sk-text-repr-fallback\"><pre>GradientBoostingRegressor(learning_rate=0.01, max_depth=2, n_estimators=500)</pre><b>In a Jupyter environment, please rerun this cell to show the HTML representation or trust the notebook. <br />On GitHub, the HTML representation is unable to render, please try loading this page with nbviewer.org.</b></div><div class=\"sk-container\" hidden><div class=\"sk-item\"><div class=\"sk-estimator sk-toggleable\"><input class=\"sk-toggleable__control sk-hidden--visually\" id=\"sk-estimator-id-11\" type=\"checkbox\" checked><label for=\"sk-estimator-id-11\" class=\"sk-toggleable__label sk-toggleable__label-arrow\">GradientBoostingRegressor</label><div class=\"sk-toggleable__content\"><pre>GradientBoostingRegressor(learning_rate=0.01, max_depth=2, n_estimators=500)</pre></div></div></div></div></div>"
      ],
      "text/plain": [
       "GradientBoostingRegressor(learning_rate=0.01, max_depth=2, n_estimators=500)"
      ]
     },
     "execution_count": 122,
     "metadata": {},
     "output_type": "execute_result"
    }
   ],
   "source": [
    "from sklearn.ensemble import GradientBoostingRegressor\n",
    "params= {'learning_rate': 0.01, 'max_depth': 2, 'n_estimators': 500}\n",
    "gb_reg = GradientBoostingRegressor(**params) # Instantiating GradientBoostingRegressor\n",
    "gb_reg.fit(X_train, y_train) \n"
   ]
  },
  {
   "cell_type": "code",
   "execution_count": 98,
   "id": "80509f5d",
   "metadata": {},
   "outputs": [],
   "source": [
    "train_y_pred = gb_reg.predict(X_train)\n",
    "test_y_pred = gb_reg.predict(X_test)"
   ]
  },
  {
   "cell_type": "code",
   "execution_count": 99,
   "id": "523e4c79",
   "metadata": {},
   "outputs": [
    {
     "name": "stdout",
     "output_type": "stream",
     "text": [
      "R^2 score for train dataset =  0.9502 \n",
      "\n",
      "R^2 score for test dataset =  0.9526 \n",
      "\n"
     ]
    }
   ],
   "source": [
    "r2_train_score = gb_reg.score(X_train, y_train) # Calculating R^2 score for train\n",
    "r2_test_score = gb_reg.score(X_test, y_test) # Calculating R^2 score for test\n",
    "print('R^2 score for train dataset = ', round(r2_train_score, 4), '\\n')\n",
    "print('R^2 score for test dataset = ', round(r2_test_score, 4), '\\n')"
   ]
  },
  {
   "cell_type": "code",
   "execution_count": 55,
   "id": "3174cb42",
   "metadata": {},
   "outputs": [
    {
     "name": "stdout",
     "output_type": "stream",
     "text": [
      "Collecting xgboost\n",
      "  Downloading xgboost-2.0.2-py3-none-win_amd64.whl (99.8 MB)\n",
      "     ---------------------------------------- 99.8/99.8 MB 4.9 MB/s eta 0:00:00\n",
      "Requirement already satisfied: numpy in c:\\users\\manis\\anaconda3\\lib\\site-packages (from xgboost) (1.23.5)\n",
      "Requirement already satisfied: scipy in c:\\users\\manis\\anaconda3\\lib\\site-packages (from xgboost) (1.10.0)\n",
      "Installing collected packages: xgboost\n",
      "Successfully installed xgboost-2.0.2\n",
      "Note: you may need to restart the kernel to use updated packages.\n"
     ]
    }
   ],
   "source": [
    "pip install xgboost"
   ]
  },
  {
   "cell_type": "code",
   "execution_count": 56,
   "id": "93d47e98",
   "metadata": {},
   "outputs": [
    {
     "data": {
      "text/html": [
       "<style>#sk-container-id-5 {color: black;background-color: white;}#sk-container-id-5 pre{padding: 0;}#sk-container-id-5 div.sk-toggleable {background-color: white;}#sk-container-id-5 label.sk-toggleable__label {cursor: pointer;display: block;width: 100%;margin-bottom: 0;padding: 0.3em;box-sizing: border-box;text-align: center;}#sk-container-id-5 label.sk-toggleable__label-arrow:before {content: \"▸\";float: left;margin-right: 0.25em;color: #696969;}#sk-container-id-5 label.sk-toggleable__label-arrow:hover:before {color: black;}#sk-container-id-5 div.sk-estimator:hover label.sk-toggleable__label-arrow:before {color: black;}#sk-container-id-5 div.sk-toggleable__content {max-height: 0;max-width: 0;overflow: hidden;text-align: left;background-color: #f0f8ff;}#sk-container-id-5 div.sk-toggleable__content pre {margin: 0.2em;color: black;border-radius: 0.25em;background-color: #f0f8ff;}#sk-container-id-5 input.sk-toggleable__control:checked~div.sk-toggleable__content {max-height: 200px;max-width: 100%;overflow: auto;}#sk-container-id-5 input.sk-toggleable__control:checked~label.sk-toggleable__label-arrow:before {content: \"▾\";}#sk-container-id-5 div.sk-estimator input.sk-toggleable__control:checked~label.sk-toggleable__label {background-color: #d4ebff;}#sk-container-id-5 div.sk-label input.sk-toggleable__control:checked~label.sk-toggleable__label {background-color: #d4ebff;}#sk-container-id-5 input.sk-hidden--visually {border: 0;clip: rect(1px 1px 1px 1px);clip: rect(1px, 1px, 1px, 1px);height: 1px;margin: -1px;overflow: hidden;padding: 0;position: absolute;width: 1px;}#sk-container-id-5 div.sk-estimator {font-family: monospace;background-color: #f0f8ff;border: 1px dotted black;border-radius: 0.25em;box-sizing: border-box;margin-bottom: 0.5em;}#sk-container-id-5 div.sk-estimator:hover {background-color: #d4ebff;}#sk-container-id-5 div.sk-parallel-item::after {content: \"\";width: 100%;border-bottom: 1px solid gray;flex-grow: 1;}#sk-container-id-5 div.sk-label:hover label.sk-toggleable__label {background-color: #d4ebff;}#sk-container-id-5 div.sk-serial::before {content: \"\";position: absolute;border-left: 1px solid gray;box-sizing: border-box;top: 0;bottom: 0;left: 50%;z-index: 0;}#sk-container-id-5 div.sk-serial {display: flex;flex-direction: column;align-items: center;background-color: white;padding-right: 0.2em;padding-left: 0.2em;position: relative;}#sk-container-id-5 div.sk-item {position: relative;z-index: 1;}#sk-container-id-5 div.sk-parallel {display: flex;align-items: stretch;justify-content: center;background-color: white;position: relative;}#sk-container-id-5 div.sk-item::before, #sk-container-id-5 div.sk-parallel-item::before {content: \"\";position: absolute;border-left: 1px solid gray;box-sizing: border-box;top: 0;bottom: 0;left: 50%;z-index: -1;}#sk-container-id-5 div.sk-parallel-item {display: flex;flex-direction: column;z-index: 1;position: relative;background-color: white;}#sk-container-id-5 div.sk-parallel-item:first-child::after {align-self: flex-end;width: 50%;}#sk-container-id-5 div.sk-parallel-item:last-child::after {align-self: flex-start;width: 50%;}#sk-container-id-5 div.sk-parallel-item:only-child::after {width: 0;}#sk-container-id-5 div.sk-dashed-wrapped {border: 1px dashed gray;margin: 0 0.4em 0.5em 0.4em;box-sizing: border-box;padding-bottom: 0.4em;background-color: white;}#sk-container-id-5 div.sk-label label {font-family: monospace;font-weight: bold;display: inline-block;line-height: 1.2em;}#sk-container-id-5 div.sk-label-container {text-align: center;}#sk-container-id-5 div.sk-container {/* jupyter's `normalize.less` sets `[hidden] { display: none; }` but bootstrap.min.css set `[hidden] { display: none !important; }` so we also need the `!important` here to be able to override the default hidden behavior on the sphinx rendered scikit-learn.org. See: https://github.com/scikit-learn/scikit-learn/issues/21755 */display: inline-block !important;position: relative;}#sk-container-id-5 div.sk-text-repr-fallback {display: none;}</style><div id=\"sk-container-id-5\" class=\"sk-top-container\"><div class=\"sk-text-repr-fallback\"><pre>XGBRegressor(base_score=None, booster=None, callbacks=None,\n",
       "             colsample_bylevel=None, colsample_bynode=None,\n",
       "             colsample_bytree=None, device=None, early_stopping_rounds=None,\n",
       "             enable_categorical=False, eta=0.04, eval_metric=None,\n",
       "             feature_types=None, gamma=None, grow_policy=None,\n",
       "             importance_type=None, interaction_constraints=None,\n",
       "             learning_rate=None, max_bin=None, max_cat_threshold=None,\n",
       "             max_cat_to_onehot=None, max_delta_step=None, max_depth=6,\n",
       "             max_leaves=None, min_child_weight=None, missing=nan,\n",
       "             monotone_constraints=None, multi_strategy=None, n_estimators=700,\n",
       "             n_jobs=None, num_parallel_tree=None, ...)</pre><b>In a Jupyter environment, please rerun this cell to show the HTML representation or trust the notebook. <br />On GitHub, the HTML representation is unable to render, please try loading this page with nbviewer.org.</b></div><div class=\"sk-container\" hidden><div class=\"sk-item\"><div class=\"sk-estimator sk-toggleable\"><input class=\"sk-toggleable__control sk-hidden--visually\" id=\"sk-estimator-id-5\" type=\"checkbox\" checked><label for=\"sk-estimator-id-5\" class=\"sk-toggleable__label sk-toggleable__label-arrow\">XGBRegressor</label><div class=\"sk-toggleable__content\"><pre>XGBRegressor(base_score=None, booster=None, callbacks=None,\n",
       "             colsample_bylevel=None, colsample_bynode=None,\n",
       "             colsample_bytree=None, device=None, early_stopping_rounds=None,\n",
       "             enable_categorical=False, eta=0.04, eval_metric=None,\n",
       "             feature_types=None, gamma=None, grow_policy=None,\n",
       "             importance_type=None, interaction_constraints=None,\n",
       "             learning_rate=None, max_bin=None, max_cat_threshold=None,\n",
       "             max_cat_to_onehot=None, max_delta_step=None, max_depth=6,\n",
       "             max_leaves=None, min_child_weight=None, missing=nan,\n",
       "             monotone_constraints=None, multi_strategy=None, n_estimators=700,\n",
       "             n_jobs=None, num_parallel_tree=None, ...)</pre></div></div></div></div></div>"
      ],
      "text/plain": [
       "XGBRegressor(base_score=None, booster=None, callbacks=None,\n",
       "             colsample_bylevel=None, colsample_bynode=None,\n",
       "             colsample_bytree=None, device=None, early_stopping_rounds=None,\n",
       "             enable_categorical=False, eta=0.04, eval_metric=None,\n",
       "             feature_types=None, gamma=None, grow_policy=None,\n",
       "             importance_type=None, interaction_constraints=None,\n",
       "             learning_rate=None, max_bin=None, max_cat_threshold=None,\n",
       "             max_cat_to_onehot=None, max_delta_step=None, max_depth=6,\n",
       "             max_leaves=None, min_child_weight=None, missing=nan,\n",
       "             monotone_constraints=None, multi_strategy=None, n_estimators=700,\n",
       "             n_jobs=None, num_parallel_tree=None, ...)"
      ]
     },
     "execution_count": 56,
     "metadata": {},
     "output_type": "execute_result"
    }
   ],
   "source": [
    "# Importing 'xgboost'\n",
    "import xgboost as xgb\n",
    "# Instantiate 'XGBRegressor'\n",
    "xgb_reg = xgb.XGBRegressor(n_estimators=700, max_depth=6, eta=0.04, subsample=0.8)\n",
    "xgb_reg.fit(X_train, y_train)"
   ]
  },
  {
   "cell_type": "code",
   "execution_count": 57,
   "id": "1a4a3022",
   "metadata": {},
   "outputs": [],
   "source": [
    " # Finding the predictions of XGBoost regressor for train and test subsets\n",
    "train_y_pred = xgb_reg.predict(X_train)\n",
    "test_y_pred = xgb_reg.predict(X_test)\n"
   ]
  },
  {
   "cell_type": "code",
   "execution_count": 58,
   "id": "1059fcdd",
   "metadata": {},
   "outputs": [
    {
     "name": "stdout",
     "output_type": "stream",
     "text": [
      "R^2 score for train dataset =  0.9969 \n",
      "\n",
      "R^2 score for test dataset =  0.9956 \n",
      "\n"
     ]
    }
   ],
   "source": [
    " r2_train_score = xgb_reg.score(X_train, y_train) # Calculating R^2 score for train\n",
    "r2_test_score = xgb_reg.score(X_test, y_test) # Calculating R^2 score for test\n",
    "print('R^2 score for train dataset = ', round(r2_train_score, 4), '\\n')\n",
    "print('R^2 score for test dataset = ', round(r2_test_score, 4), '\\n')\n"
   ]
  },
  {
   "cell_type": "code",
   "execution_count": null,
   "id": "8278f17c",
   "metadata": {},
   "outputs": [],
   "source": []
  },
  {
   "cell_type": "code",
   "execution_count": 134,
   "id": "f50b5d32",
   "metadata": {},
   "outputs": [
    {
     "ename": "NameError",
     "evalue": "name 'r2_score' is not defined",
     "output_type": "error",
     "traceback": [
      "\u001b[1;31m---------------------------------------------------------------------------\u001b[0m",
      "\u001b[1;31mNameError\u001b[0m                                 Traceback (most recent call last)",
      "Cell \u001b[1;32mIn[134], line 48\u001b[0m\n\u001b[0;32m     45\u001b[0m y_test_pred \u001b[38;5;241m=\u001b[39m model\u001b[38;5;241m.\u001b[39mpredict(X_test)\n\u001b[0;32m     47\u001b[0m \u001b[38;5;66;03m# Evaluate R^2\u001b[39;00m\n\u001b[1;32m---> 48\u001b[0m r2_train \u001b[38;5;241m=\u001b[39m \u001b[43mr2_score\u001b[49m(y_train, y_train_pred)\n\u001b[0;32m     49\u001b[0m r2_test \u001b[38;5;241m=\u001b[39m r2_score(y_test, y_test_pred)\n\u001b[0;32m     51\u001b[0m \u001b[38;5;28mprint\u001b[39m(\u001b[38;5;124mf\u001b[39m\u001b[38;5;124m\"\u001b[39m\u001b[38;5;124mR^2 on training data: \u001b[39m\u001b[38;5;132;01m{\u001b[39;00mr2_train\u001b[38;5;132;01m}\u001b[39;00m\u001b[38;5;124m\"\u001b[39m)\n",
      "\u001b[1;31mNameError\u001b[0m: name 'r2_score' is not defined"
     ]
    }
   ],
   "source": [
    "from sklearn.metrics import mean_squared_error\n",
    "from sklearn.preprocessing import OneHotEncoder, StandardScaler \n",
    "from sklearn.compose import ColumnTransformer\n",
    "from sklearn.pipeline import Pipeline\n",
    "\n",
    "\n",
    "# Defining the features and the target of the model\n",
    "X = df[['SERVICECODE']] # Features\n",
    "y = df.Timespan # Target\n",
    "\n",
    "\n",
    "# Split the data into training and testing sets\n",
    "X_train, X_test, y_train, y_test = train_test_split(X, y, test_size=0.2, random_state=42)\n",
    "\n",
    "# Identify categorical features\n",
    "categorical_features = ['SERVICECODE']\n",
    "\n",
    "# Create a preprocessor for numerical and categorical features\n",
    "numeric_features = X.select_dtypes(include=['float64']).columns\n",
    "numeric_transformer = Pipeline(steps=[\n",
    "    ('scaler', StandardScaler())\n",
    "])\n",
    "\n",
    "categorical_transformer = Pipeline(steps=[\n",
    "    ('onehot', OneHotEncoder(handle_unknown='ignore'))\n",
    "])\n",
    "\n",
    "preprocessor = ColumnTransformer(\n",
    "    transformers=[\n",
    "        ('num', numeric_transformer, numeric_features),\n",
    "        ('cat', categorical_transformer, categorical_features)\n",
    "    ])\n",
    "\n",
    "# Create the RandomForestRegressor model with the preprocessor\n",
    "model = Pipeline(steps=[\n",
    "    ('preprocessor', preprocessor),\n",
    "    ('regressor', RandomForestRegressor(random_state=42))\n",
    "])\n",
    "\n",
    "# Fit the model\n",
    "model.fit(X_train, y_train)\n",
    "\n",
    "# Predictions\n",
    "y_train_pred = model.predict(X_train)\n",
    "y_test_pred = model.predict(X_test)\n",
    "\n",
    "# Evaluate R^2\n",
    "r2_train = r2_score(y_train, y_train_pred)\n",
    "r2_test = r2_score(y_test, y_test_pred)\n",
    "\n",
    "print(f\"R^2 on training data: {r2_train}\")\n",
    "print(f\"R^2 on test data: {r2_test}\")\n",
    "\n",
    "# Evaluate the model\n",
    "mse = mean_squared_error(y_test, y_pred)\n",
    "print(f'Mean Squared Error: {mse}')"
   ]
  },
  {
   "cell_type": "code",
   "execution_count": 101,
   "id": "d190c10b",
   "metadata": {},
   "outputs": [
    {
     "ename": "ValueError",
     "evalue": "Input X contains NaN.\nRandomForestRegressor does not accept missing values encoded as NaN natively. For supervised learning, you might want to consider sklearn.ensemble.HistGradientBoostingClassifier and Regressor which accept missing values encoded as NaNs natively. Alternatively, it is possible to preprocess the data, for instance by using an imputer transformer in a pipeline or drop samples with missing values. See https://scikit-learn.org/stable/modules/impute.html You can find a list of all estimators that handle NaN values at the following page: https://scikit-learn.org/stable/modules/impute.html#estimators-that-handle-nan-values",
     "output_type": "error",
     "traceback": [
      "\u001b[1;31m---------------------------------------------------------------------------\u001b[0m",
      "\u001b[1;31mValueError\u001b[0m                                Traceback (most recent call last)",
      "Cell \u001b[1;32mIn[101], line 41\u001b[0m\n\u001b[0;32m     35\u001b[0m model \u001b[38;5;241m=\u001b[39m Pipeline(steps\u001b[38;5;241m=\u001b[39m[\n\u001b[0;32m     36\u001b[0m     (\u001b[38;5;124m'\u001b[39m\u001b[38;5;124mpreprocessor\u001b[39m\u001b[38;5;124m'\u001b[39m, preprocessor),\n\u001b[0;32m     37\u001b[0m     (\u001b[38;5;124m'\u001b[39m\u001b[38;5;124mregressor\u001b[39m\u001b[38;5;124m'\u001b[39m, RandomForestRegressor(random_state\u001b[38;5;241m=\u001b[39m\u001b[38;5;241m42\u001b[39m))\n\u001b[0;32m     38\u001b[0m ])\n\u001b[0;32m     40\u001b[0m \u001b[38;5;66;03m# Fit the model\u001b[39;00m\n\u001b[1;32m---> 41\u001b[0m \u001b[43mmodel\u001b[49m\u001b[38;5;241;43m.\u001b[39;49m\u001b[43mfit\u001b[49m\u001b[43m(\u001b[49m\u001b[43mX_train\u001b[49m\u001b[43m,\u001b[49m\u001b[43m \u001b[49m\u001b[43my_train\u001b[49m\u001b[43m)\u001b[49m\n\u001b[0;32m     43\u001b[0m \u001b[38;5;66;03m# Predictions\u001b[39;00m\n\u001b[0;32m     44\u001b[0m y_train_pred \u001b[38;5;241m=\u001b[39m model\u001b[38;5;241m.\u001b[39mpredict(X_train)\n",
      "File \u001b[1;32m~\\anaconda3\\lib\\site-packages\\sklearn\\pipeline.py:405\u001b[0m, in \u001b[0;36mPipeline.fit\u001b[1;34m(self, X, y, **fit_params)\u001b[0m\n\u001b[0;32m    403\u001b[0m     \u001b[38;5;28;01mif\u001b[39;00m \u001b[38;5;28mself\u001b[39m\u001b[38;5;241m.\u001b[39m_final_estimator \u001b[38;5;241m!=\u001b[39m \u001b[38;5;124m\"\u001b[39m\u001b[38;5;124mpassthrough\u001b[39m\u001b[38;5;124m\"\u001b[39m:\n\u001b[0;32m    404\u001b[0m         fit_params_last_step \u001b[38;5;241m=\u001b[39m fit_params_steps[\u001b[38;5;28mself\u001b[39m\u001b[38;5;241m.\u001b[39msteps[\u001b[38;5;241m-\u001b[39m\u001b[38;5;241m1\u001b[39m][\u001b[38;5;241m0\u001b[39m]]\n\u001b[1;32m--> 405\u001b[0m         \u001b[38;5;28mself\u001b[39m\u001b[38;5;241m.\u001b[39m_final_estimator\u001b[38;5;241m.\u001b[39mfit(Xt, y, \u001b[38;5;241m*\u001b[39m\u001b[38;5;241m*\u001b[39mfit_params_last_step)\n\u001b[0;32m    407\u001b[0m \u001b[38;5;28;01mreturn\u001b[39;00m \u001b[38;5;28mself\u001b[39m\n",
      "File \u001b[1;32m~\\anaconda3\\lib\\site-packages\\sklearn\\ensemble\\_forest.py:345\u001b[0m, in \u001b[0;36mBaseForest.fit\u001b[1;34m(self, X, y, sample_weight)\u001b[0m\n\u001b[0;32m    343\u001b[0m \u001b[38;5;28;01mif\u001b[39;00m issparse(y):\n\u001b[0;32m    344\u001b[0m     \u001b[38;5;28;01mraise\u001b[39;00m \u001b[38;5;167;01mValueError\u001b[39;00m(\u001b[38;5;124m\"\u001b[39m\u001b[38;5;124msparse multilabel-indicator for y is not supported.\u001b[39m\u001b[38;5;124m\"\u001b[39m)\n\u001b[1;32m--> 345\u001b[0m X, y \u001b[38;5;241m=\u001b[39m \u001b[38;5;28;43mself\u001b[39;49m\u001b[38;5;241;43m.\u001b[39;49m\u001b[43m_validate_data\u001b[49m\u001b[43m(\u001b[49m\n\u001b[0;32m    346\u001b[0m \u001b[43m    \u001b[49m\u001b[43mX\u001b[49m\u001b[43m,\u001b[49m\u001b[43m \u001b[49m\u001b[43my\u001b[49m\u001b[43m,\u001b[49m\u001b[43m \u001b[49m\u001b[43mmulti_output\u001b[49m\u001b[38;5;241;43m=\u001b[39;49m\u001b[38;5;28;43;01mTrue\u001b[39;49;00m\u001b[43m,\u001b[49m\u001b[43m \u001b[49m\u001b[43maccept_sparse\u001b[49m\u001b[38;5;241;43m=\u001b[39;49m\u001b[38;5;124;43m\"\u001b[39;49m\u001b[38;5;124;43mcsc\u001b[39;49m\u001b[38;5;124;43m\"\u001b[39;49m\u001b[43m,\u001b[49m\u001b[43m \u001b[49m\u001b[43mdtype\u001b[49m\u001b[38;5;241;43m=\u001b[39;49m\u001b[43mDTYPE\u001b[49m\n\u001b[0;32m    347\u001b[0m \u001b[43m\u001b[49m\u001b[43m)\u001b[49m\n\u001b[0;32m    348\u001b[0m \u001b[38;5;28;01mif\u001b[39;00m sample_weight \u001b[38;5;129;01mis\u001b[39;00m \u001b[38;5;129;01mnot\u001b[39;00m \u001b[38;5;28;01mNone\u001b[39;00m:\n\u001b[0;32m    349\u001b[0m     sample_weight \u001b[38;5;241m=\u001b[39m _check_sample_weight(sample_weight, X)\n",
      "File \u001b[1;32m~\\anaconda3\\lib\\site-packages\\sklearn\\base.py:565\u001b[0m, in \u001b[0;36mBaseEstimator._validate_data\u001b[1;34m(self, X, y, reset, validate_separately, **check_params)\u001b[0m\n\u001b[0;32m    563\u001b[0m         y \u001b[38;5;241m=\u001b[39m check_array(y, input_name\u001b[38;5;241m=\u001b[39m\u001b[38;5;124m\"\u001b[39m\u001b[38;5;124my\u001b[39m\u001b[38;5;124m\"\u001b[39m, \u001b[38;5;241m*\u001b[39m\u001b[38;5;241m*\u001b[39mcheck_y_params)\n\u001b[0;32m    564\u001b[0m     \u001b[38;5;28;01melse\u001b[39;00m:\n\u001b[1;32m--> 565\u001b[0m         X, y \u001b[38;5;241m=\u001b[39m check_X_y(X, y, \u001b[38;5;241m*\u001b[39m\u001b[38;5;241m*\u001b[39mcheck_params)\n\u001b[0;32m    566\u001b[0m     out \u001b[38;5;241m=\u001b[39m X, y\n\u001b[0;32m    568\u001b[0m \u001b[38;5;28;01mif\u001b[39;00m \u001b[38;5;129;01mnot\u001b[39;00m no_val_X \u001b[38;5;129;01mand\u001b[39;00m check_params\u001b[38;5;241m.\u001b[39mget(\u001b[38;5;124m\"\u001b[39m\u001b[38;5;124mensure_2d\u001b[39m\u001b[38;5;124m\"\u001b[39m, \u001b[38;5;28;01mTrue\u001b[39;00m):\n",
      "File \u001b[1;32m~\\anaconda3\\lib\\site-packages\\sklearn\\utils\\validation.py:1106\u001b[0m, in \u001b[0;36mcheck_X_y\u001b[1;34m(X, y, accept_sparse, accept_large_sparse, dtype, order, copy, force_all_finite, ensure_2d, allow_nd, multi_output, ensure_min_samples, ensure_min_features, y_numeric, estimator)\u001b[0m\n\u001b[0;32m   1101\u001b[0m         estimator_name \u001b[38;5;241m=\u001b[39m _check_estimator_name(estimator)\n\u001b[0;32m   1102\u001b[0m     \u001b[38;5;28;01mraise\u001b[39;00m \u001b[38;5;167;01mValueError\u001b[39;00m(\n\u001b[0;32m   1103\u001b[0m         \u001b[38;5;124mf\u001b[39m\u001b[38;5;124m\"\u001b[39m\u001b[38;5;132;01m{\u001b[39;00mestimator_name\u001b[38;5;132;01m}\u001b[39;00m\u001b[38;5;124m requires y to be passed, but the target y is None\u001b[39m\u001b[38;5;124m\"\u001b[39m\n\u001b[0;32m   1104\u001b[0m     )\n\u001b[1;32m-> 1106\u001b[0m X \u001b[38;5;241m=\u001b[39m \u001b[43mcheck_array\u001b[49m\u001b[43m(\u001b[49m\n\u001b[0;32m   1107\u001b[0m \u001b[43m    \u001b[49m\u001b[43mX\u001b[49m\u001b[43m,\u001b[49m\n\u001b[0;32m   1108\u001b[0m \u001b[43m    \u001b[49m\u001b[43maccept_sparse\u001b[49m\u001b[38;5;241;43m=\u001b[39;49m\u001b[43maccept_sparse\u001b[49m\u001b[43m,\u001b[49m\n\u001b[0;32m   1109\u001b[0m \u001b[43m    \u001b[49m\u001b[43maccept_large_sparse\u001b[49m\u001b[38;5;241;43m=\u001b[39;49m\u001b[43maccept_large_sparse\u001b[49m\u001b[43m,\u001b[49m\n\u001b[0;32m   1110\u001b[0m \u001b[43m    \u001b[49m\u001b[43mdtype\u001b[49m\u001b[38;5;241;43m=\u001b[39;49m\u001b[43mdtype\u001b[49m\u001b[43m,\u001b[49m\n\u001b[0;32m   1111\u001b[0m \u001b[43m    \u001b[49m\u001b[43morder\u001b[49m\u001b[38;5;241;43m=\u001b[39;49m\u001b[43morder\u001b[49m\u001b[43m,\u001b[49m\n\u001b[0;32m   1112\u001b[0m \u001b[43m    \u001b[49m\u001b[43mcopy\u001b[49m\u001b[38;5;241;43m=\u001b[39;49m\u001b[43mcopy\u001b[49m\u001b[43m,\u001b[49m\n\u001b[0;32m   1113\u001b[0m \u001b[43m    \u001b[49m\u001b[43mforce_all_finite\u001b[49m\u001b[38;5;241;43m=\u001b[39;49m\u001b[43mforce_all_finite\u001b[49m\u001b[43m,\u001b[49m\n\u001b[0;32m   1114\u001b[0m \u001b[43m    \u001b[49m\u001b[43mensure_2d\u001b[49m\u001b[38;5;241;43m=\u001b[39;49m\u001b[43mensure_2d\u001b[49m\u001b[43m,\u001b[49m\n\u001b[0;32m   1115\u001b[0m \u001b[43m    \u001b[49m\u001b[43mallow_nd\u001b[49m\u001b[38;5;241;43m=\u001b[39;49m\u001b[43mallow_nd\u001b[49m\u001b[43m,\u001b[49m\n\u001b[0;32m   1116\u001b[0m \u001b[43m    \u001b[49m\u001b[43mensure_min_samples\u001b[49m\u001b[38;5;241;43m=\u001b[39;49m\u001b[43mensure_min_samples\u001b[49m\u001b[43m,\u001b[49m\n\u001b[0;32m   1117\u001b[0m \u001b[43m    \u001b[49m\u001b[43mensure_min_features\u001b[49m\u001b[38;5;241;43m=\u001b[39;49m\u001b[43mensure_min_features\u001b[49m\u001b[43m,\u001b[49m\n\u001b[0;32m   1118\u001b[0m \u001b[43m    \u001b[49m\u001b[43mestimator\u001b[49m\u001b[38;5;241;43m=\u001b[39;49m\u001b[43mestimator\u001b[49m\u001b[43m,\u001b[49m\n\u001b[0;32m   1119\u001b[0m \u001b[43m    \u001b[49m\u001b[43minput_name\u001b[49m\u001b[38;5;241;43m=\u001b[39;49m\u001b[38;5;124;43m\"\u001b[39;49m\u001b[38;5;124;43mX\u001b[39;49m\u001b[38;5;124;43m\"\u001b[39;49m\u001b[43m,\u001b[49m\n\u001b[0;32m   1120\u001b[0m \u001b[43m\u001b[49m\u001b[43m)\u001b[49m\n\u001b[0;32m   1122\u001b[0m y \u001b[38;5;241m=\u001b[39m _check_y(y, multi_output\u001b[38;5;241m=\u001b[39mmulti_output, y_numeric\u001b[38;5;241m=\u001b[39my_numeric, estimator\u001b[38;5;241m=\u001b[39mestimator)\n\u001b[0;32m   1124\u001b[0m check_consistent_length(X, y)\n",
      "File \u001b[1;32m~\\anaconda3\\lib\\site-packages\\sklearn\\utils\\validation.py:845\u001b[0m, in \u001b[0;36mcheck_array\u001b[1;34m(array, accept_sparse, accept_large_sparse, dtype, order, copy, force_all_finite, ensure_2d, allow_nd, ensure_min_samples, ensure_min_features, estimator, input_name)\u001b[0m\n\u001b[0;32m    843\u001b[0m \u001b[38;5;28;01mif\u001b[39;00m sp\u001b[38;5;241m.\u001b[39missparse(array):\n\u001b[0;32m    844\u001b[0m     _ensure_no_complex_data(array)\n\u001b[1;32m--> 845\u001b[0m     array \u001b[38;5;241m=\u001b[39m \u001b[43m_ensure_sparse_format\u001b[49m\u001b[43m(\u001b[49m\n\u001b[0;32m    846\u001b[0m \u001b[43m        \u001b[49m\u001b[43marray\u001b[49m\u001b[43m,\u001b[49m\n\u001b[0;32m    847\u001b[0m \u001b[43m        \u001b[49m\u001b[43maccept_sparse\u001b[49m\u001b[38;5;241;43m=\u001b[39;49m\u001b[43maccept_sparse\u001b[49m\u001b[43m,\u001b[49m\n\u001b[0;32m    848\u001b[0m \u001b[43m        \u001b[49m\u001b[43mdtype\u001b[49m\u001b[38;5;241;43m=\u001b[39;49m\u001b[43mdtype\u001b[49m\u001b[43m,\u001b[49m\n\u001b[0;32m    849\u001b[0m \u001b[43m        \u001b[49m\u001b[43mcopy\u001b[49m\u001b[38;5;241;43m=\u001b[39;49m\u001b[43mcopy\u001b[49m\u001b[43m,\u001b[49m\n\u001b[0;32m    850\u001b[0m \u001b[43m        \u001b[49m\u001b[43mforce_all_finite\u001b[49m\u001b[38;5;241;43m=\u001b[39;49m\u001b[43mforce_all_finite\u001b[49m\u001b[43m,\u001b[49m\n\u001b[0;32m    851\u001b[0m \u001b[43m        \u001b[49m\u001b[43maccept_large_sparse\u001b[49m\u001b[38;5;241;43m=\u001b[39;49m\u001b[43maccept_large_sparse\u001b[49m\u001b[43m,\u001b[49m\n\u001b[0;32m    852\u001b[0m \u001b[43m        \u001b[49m\u001b[43mestimator_name\u001b[49m\u001b[38;5;241;43m=\u001b[39;49m\u001b[43mestimator_name\u001b[49m\u001b[43m,\u001b[49m\n\u001b[0;32m    853\u001b[0m \u001b[43m        \u001b[49m\u001b[43minput_name\u001b[49m\u001b[38;5;241;43m=\u001b[39;49m\u001b[43minput_name\u001b[49m\u001b[43m,\u001b[49m\n\u001b[0;32m    854\u001b[0m \u001b[43m    \u001b[49m\u001b[43m)\u001b[49m\n\u001b[0;32m    855\u001b[0m \u001b[38;5;28;01melse\u001b[39;00m:\n\u001b[0;32m    856\u001b[0m     \u001b[38;5;66;03m# If np.array(..) gives ComplexWarning, then we convert the warning\u001b[39;00m\n\u001b[0;32m    857\u001b[0m     \u001b[38;5;66;03m# to an error. This is needed because specifying a non complex\u001b[39;00m\n\u001b[0;32m    858\u001b[0m     \u001b[38;5;66;03m# dtype to the function converts complex to real dtype,\u001b[39;00m\n\u001b[0;32m    859\u001b[0m     \u001b[38;5;66;03m# thereby passing the test made in the lines following the scope\u001b[39;00m\n\u001b[0;32m    860\u001b[0m     \u001b[38;5;66;03m# of warnings context manager.\u001b[39;00m\n\u001b[0;32m    861\u001b[0m     \u001b[38;5;28;01mwith\u001b[39;00m warnings\u001b[38;5;241m.\u001b[39mcatch_warnings():\n",
      "File \u001b[1;32m~\\anaconda3\\lib\\site-packages\\sklearn\\utils\\validation.py:561\u001b[0m, in \u001b[0;36m_ensure_sparse_format\u001b[1;34m(spmatrix, accept_sparse, dtype, copy, force_all_finite, accept_large_sparse, estimator_name, input_name)\u001b[0m\n\u001b[0;32m    556\u001b[0m         warnings\u001b[38;5;241m.\u001b[39mwarn(\n\u001b[0;32m    557\u001b[0m             \u001b[38;5;124m\"\u001b[39m\u001b[38;5;124mCan\u001b[39m\u001b[38;5;124m'\u001b[39m\u001b[38;5;124mt check \u001b[39m\u001b[38;5;132;01m%s\u001b[39;00m\u001b[38;5;124m sparse matrix for nan or inf.\u001b[39m\u001b[38;5;124m\"\u001b[39m \u001b[38;5;241m%\u001b[39m spmatrix\u001b[38;5;241m.\u001b[39mformat,\n\u001b[0;32m    558\u001b[0m             stacklevel\u001b[38;5;241m=\u001b[39m\u001b[38;5;241m2\u001b[39m,\n\u001b[0;32m    559\u001b[0m         )\n\u001b[0;32m    560\u001b[0m     \u001b[38;5;28;01melse\u001b[39;00m:\n\u001b[1;32m--> 561\u001b[0m         \u001b[43m_assert_all_finite\u001b[49m\u001b[43m(\u001b[49m\n\u001b[0;32m    562\u001b[0m \u001b[43m            \u001b[49m\u001b[43mspmatrix\u001b[49m\u001b[38;5;241;43m.\u001b[39;49m\u001b[43mdata\u001b[49m\u001b[43m,\u001b[49m\n\u001b[0;32m    563\u001b[0m \u001b[43m            \u001b[49m\u001b[43mallow_nan\u001b[49m\u001b[38;5;241;43m=\u001b[39;49m\u001b[43mforce_all_finite\u001b[49m\u001b[43m \u001b[49m\u001b[38;5;241;43m==\u001b[39;49m\u001b[43m \u001b[49m\u001b[38;5;124;43m\"\u001b[39;49m\u001b[38;5;124;43mallow-nan\u001b[39;49m\u001b[38;5;124;43m\"\u001b[39;49m\u001b[43m,\u001b[49m\n\u001b[0;32m    564\u001b[0m \u001b[43m            \u001b[49m\u001b[43mestimator_name\u001b[49m\u001b[38;5;241;43m=\u001b[39;49m\u001b[43mestimator_name\u001b[49m\u001b[43m,\u001b[49m\n\u001b[0;32m    565\u001b[0m \u001b[43m            \u001b[49m\u001b[43minput_name\u001b[49m\u001b[38;5;241;43m=\u001b[39;49m\u001b[43minput_name\u001b[49m\u001b[43m,\u001b[49m\n\u001b[0;32m    566\u001b[0m \u001b[43m        \u001b[49m\u001b[43m)\u001b[49m\n\u001b[0;32m    568\u001b[0m \u001b[38;5;28;01mreturn\u001b[39;00m spmatrix\n",
      "File \u001b[1;32m~\\anaconda3\\lib\\site-packages\\sklearn\\utils\\validation.py:161\u001b[0m, in \u001b[0;36m_assert_all_finite\u001b[1;34m(X, allow_nan, msg_dtype, estimator_name, input_name)\u001b[0m\n\u001b[0;32m    144\u001b[0m \u001b[38;5;28;01mif\u001b[39;00m estimator_name \u001b[38;5;129;01mand\u001b[39;00m input_name \u001b[38;5;241m==\u001b[39m \u001b[38;5;124m\"\u001b[39m\u001b[38;5;124mX\u001b[39m\u001b[38;5;124m\"\u001b[39m \u001b[38;5;129;01mand\u001b[39;00m has_nan_error:\n\u001b[0;32m    145\u001b[0m     \u001b[38;5;66;03m# Improve the error message on how to handle missing values in\u001b[39;00m\n\u001b[0;32m    146\u001b[0m     \u001b[38;5;66;03m# scikit-learn.\u001b[39;00m\n\u001b[0;32m    147\u001b[0m     msg_err \u001b[38;5;241m+\u001b[39m\u001b[38;5;241m=\u001b[39m (\n\u001b[0;32m    148\u001b[0m         \u001b[38;5;124mf\u001b[39m\u001b[38;5;124m\"\u001b[39m\u001b[38;5;130;01m\\n\u001b[39;00m\u001b[38;5;132;01m{\u001b[39;00mestimator_name\u001b[38;5;132;01m}\u001b[39;00m\u001b[38;5;124m does not accept missing values\u001b[39m\u001b[38;5;124m\"\u001b[39m\n\u001b[0;32m    149\u001b[0m         \u001b[38;5;124m\"\u001b[39m\u001b[38;5;124m encoded as NaN natively. For supervised learning, you might want\u001b[39m\u001b[38;5;124m\"\u001b[39m\n\u001b[1;32m   (...)\u001b[0m\n\u001b[0;32m    159\u001b[0m         \u001b[38;5;124m\"\u001b[39m\u001b[38;5;124m#estimators-that-handle-nan-values\u001b[39m\u001b[38;5;124m\"\u001b[39m\n\u001b[0;32m    160\u001b[0m     )\n\u001b[1;32m--> 161\u001b[0m \u001b[38;5;28;01mraise\u001b[39;00m \u001b[38;5;167;01mValueError\u001b[39;00m(msg_err)\n",
      "\u001b[1;31mValueError\u001b[0m: Input X contains NaN.\nRandomForestRegressor does not accept missing values encoded as NaN natively. For supervised learning, you might want to consider sklearn.ensemble.HistGradientBoostingClassifier and Regressor which accept missing values encoded as NaNs natively. Alternatively, it is possible to preprocess the data, for instance by using an imputer transformer in a pipeline or drop samples with missing values. See https://scikit-learn.org/stable/modules/impute.html You can find a list of all estimators that handle NaN values at the following page: https://scikit-learn.org/stable/modules/impute.html#estimators-that-handle-nan-values"
     ]
    }
   ],
   "source": [
    "from sklearn.metrics import mean_squared_error\n",
    "from sklearn.preprocessing import OneHotEncoder, StandardScaler \n",
    "from sklearn.compose import ColumnTransformer\n",
    "from sklearn.pipeline import Pipeline\n",
    "\n",
    "\n",
    "# Defining the features and the target of the model\n",
    "X = df[['SERVICECODE','ZIPCODE']] # Features\n",
    "y = df.Timespan # Target\n",
    "\n",
    "\n",
    "# Split the data into training and testing sets\n",
    "X_train, X_test, y_train, y_test = train_test_split(X, y, test_size=0.2, random_state=42)\n",
    "\n",
    "# Identify categorical features\n",
    "categorical_features = ['SERVICECODE','ZIPCODE']\n",
    "\n",
    "# Create a preprocessor for numerical and categorical features\n",
    "numeric_features = X.select_dtypes(include=['float64']).columns\n",
    "numeric_transformer = Pipeline(steps=[\n",
    "    ('scaler', StandardScaler())\n",
    "])\n",
    "\n",
    "categorical_transformer = Pipeline(steps=[\n",
    "    ('onehot', OneHotEncoder(handle_unknown='ignore'))\n",
    "])\n",
    "\n",
    "preprocessor = ColumnTransformer(\n",
    "    transformers=[\n",
    "        ('num', numeric_transformer, numeric_features),\n",
    "        ('cat', categorical_transformer, categorical_features)\n",
    "    ])\n",
    "\n",
    "# Create the RandomForestRegressor model with the preprocessor\n",
    "model = Pipeline(steps=[\n",
    "    ('preprocessor', preprocessor),\n",
    "    ('regressor', RandomForestRegressor(random_state=42))\n",
    "])\n",
    "\n",
    "# Fit the model\n",
    "model.fit(X_train, y_train)\n",
    "\n",
    "# Predictions\n",
    "y_train_pred = model.predict(X_train)\n",
    "y_test_pred = model.predict(X_test)\n",
    "\n",
    "# Evaluate R^2\n",
    "r2_train = r2_score(y_train, y_train_pred)\n",
    "r2_test = r2_score(y_test, y_test_pred)\n",
    "\n",
    "print(f\"R^2 on training data: {r2_train}\")\n",
    "print(f\"R^2 on test data: {r2_test}\")\n",
    "\n",
    "\n",
    "# Evaluate the model\n",
    "mse = mean_squared_error(y_test, y_pred)\n",
    "print(f'Mean Squared Error: {mse}')"
   ]
  },
  {
   "cell_type": "code",
   "execution_count": null,
   "id": "83026638",
   "metadata": {},
   "outputs": [],
   "source": []
  },
  {
   "cell_type": "code",
   "execution_count": null,
   "id": "68d57476",
   "metadata": {},
   "outputs": [],
   "source": []
  },
  {
   "cell_type": "code",
   "execution_count": 23,
   "id": "74e25636",
   "metadata": {},
   "outputs": [],
   "source": [
    "from sklearn.ensemble import GradientBoostingClassifier"
   ]
  },
  {
   "cell_type": "code",
   "execution_count": 24,
   "id": "e6a52cbd",
   "metadata": {},
   "outputs": [],
   "source": [
    "gb_classifier = GradientBoostingClassifier(learning_rate=0.1, n_estimators=100, max_depth=3, random_state=42)\n",
    "\n"
   ]
  },
  {
   "cell_type": "code",
   "execution_count": 25,
   "id": "504419a0",
   "metadata": {},
   "outputs": [
    {
     "ename": "MemoryError",
     "evalue": "Unable to allocate 368. GiB for an array with shape (249589, 197920) and data type float64",
     "output_type": "error",
     "traceback": [
      "\u001b[1;31m---------------------------------------------------------------------------\u001b[0m",
      "\u001b[1;31mMemoryError\u001b[0m                               Traceback (most recent call last)",
      "Cell \u001b[1;32mIn[25], line 2\u001b[0m\n\u001b[0;32m      1\u001b[0m \u001b[38;5;66;03m# Fit the model to the training data\u001b[39;00m\n\u001b[1;32m----> 2\u001b[0m \u001b[43mgb_classifier\u001b[49m\u001b[38;5;241;43m.\u001b[39;49m\u001b[43mfit\u001b[49m\u001b[43m(\u001b[49m\u001b[43mX_train\u001b[49m\u001b[43m,\u001b[49m\u001b[43m \u001b[49m\u001b[43my_train\u001b[49m\u001b[43m)\u001b[49m\n",
      "File \u001b[1;32m~\\anaconda3\\lib\\site-packages\\sklearn\\base.py:1152\u001b[0m, in \u001b[0;36m_fit_context.<locals>.decorator.<locals>.wrapper\u001b[1;34m(estimator, *args, **kwargs)\u001b[0m\n\u001b[0;32m   1145\u001b[0m     estimator\u001b[38;5;241m.\u001b[39m_validate_params()\n\u001b[0;32m   1147\u001b[0m \u001b[38;5;28;01mwith\u001b[39;00m config_context(\n\u001b[0;32m   1148\u001b[0m     skip_parameter_validation\u001b[38;5;241m=\u001b[39m(\n\u001b[0;32m   1149\u001b[0m         prefer_skip_nested_validation \u001b[38;5;129;01mor\u001b[39;00m global_skip_validation\n\u001b[0;32m   1150\u001b[0m     )\n\u001b[0;32m   1151\u001b[0m ):\n\u001b[1;32m-> 1152\u001b[0m     \u001b[38;5;28;01mreturn\u001b[39;00m fit_method(estimator, \u001b[38;5;241m*\u001b[39margs, \u001b[38;5;241m*\u001b[39m\u001b[38;5;241m*\u001b[39mkwargs)\n",
      "File \u001b[1;32m~\\anaconda3\\lib\\site-packages\\sklearn\\ensemble\\_gb.py:499\u001b[0m, in \u001b[0;36mBaseGradientBoosting.fit\u001b[1;34m(self, X, y, sample_weight, monitor)\u001b[0m\n\u001b[0;32m    496\u001b[0m             \u001b[38;5;28;01melse\u001b[39;00m:  \u001b[38;5;66;03m# regular estimator whose input checking failed\u001b[39;00m\n\u001b[0;32m    497\u001b[0m                 \u001b[38;5;28;01mraise\u001b[39;00m\n\u001b[1;32m--> 499\u001b[0m     raw_predictions \u001b[38;5;241m=\u001b[39m \u001b[38;5;28;43mself\u001b[39;49m\u001b[38;5;241;43m.\u001b[39;49m\u001b[43m_loss\u001b[49m\u001b[38;5;241;43m.\u001b[39;49m\u001b[43mget_init_raw_predictions\u001b[49m\u001b[43m(\u001b[49m\n\u001b[0;32m    500\u001b[0m \u001b[43m        \u001b[49m\u001b[43mX_train\u001b[49m\u001b[43m,\u001b[49m\u001b[43m \u001b[49m\u001b[38;5;28;43mself\u001b[39;49m\u001b[38;5;241;43m.\u001b[39;49m\u001b[43minit_\u001b[49m\n\u001b[0;32m    501\u001b[0m \u001b[43m    \u001b[49m\u001b[43m)\u001b[49m\n\u001b[0;32m    503\u001b[0m begin_at_stage \u001b[38;5;241m=\u001b[39m \u001b[38;5;241m0\u001b[39m\n\u001b[0;32m    505\u001b[0m \u001b[38;5;66;03m# The rng state must be preserved if warm_start is True\u001b[39;00m\n",
      "File \u001b[1;32m~\\anaconda3\\lib\\site-packages\\sklearn\\ensemble\\_gb_losses.py:865\u001b[0m, in \u001b[0;36mMultinomialDeviance.get_init_raw_predictions\u001b[1;34m(self, X, estimator)\u001b[0m\n\u001b[0;32m    864\u001b[0m \u001b[38;5;28;01mdef\u001b[39;00m \u001b[38;5;21mget_init_raw_predictions\u001b[39m(\u001b[38;5;28mself\u001b[39m, X, estimator):\n\u001b[1;32m--> 865\u001b[0m     probas \u001b[38;5;241m=\u001b[39m \u001b[43mestimator\u001b[49m\u001b[38;5;241;43m.\u001b[39;49m\u001b[43mpredict_proba\u001b[49m\u001b[43m(\u001b[49m\u001b[43mX\u001b[49m\u001b[43m)\u001b[49m\n\u001b[0;32m    866\u001b[0m     eps \u001b[38;5;241m=\u001b[39m np\u001b[38;5;241m.\u001b[39mfinfo(np\u001b[38;5;241m.\u001b[39mfloat32)\u001b[38;5;241m.\u001b[39meps\n\u001b[0;32m    867\u001b[0m     probas \u001b[38;5;241m=\u001b[39m np\u001b[38;5;241m.\u001b[39mclip(probas, eps, \u001b[38;5;241m1\u001b[39m \u001b[38;5;241m-\u001b[39m eps)\n",
      "File \u001b[1;32m~\\anaconda3\\lib\\site-packages\\sklearn\\dummy.py:370\u001b[0m, in \u001b[0;36mDummyClassifier.predict_proba\u001b[1;34m(self, X)\u001b[0m\n\u001b[0;32m    368\u001b[0m     out[:, ind] \u001b[38;5;241m=\u001b[39m \u001b[38;5;241m1.0\u001b[39m\n\u001b[0;32m    369\u001b[0m \u001b[38;5;28;01melif\u001b[39;00m \u001b[38;5;28mself\u001b[39m\u001b[38;5;241m.\u001b[39m_strategy \u001b[38;5;241m==\u001b[39m \u001b[38;5;124m\"\u001b[39m\u001b[38;5;124mprior\u001b[39m\u001b[38;5;124m\"\u001b[39m:\n\u001b[1;32m--> 370\u001b[0m     out \u001b[38;5;241m=\u001b[39m \u001b[43mnp\u001b[49m\u001b[38;5;241;43m.\u001b[39;49m\u001b[43mones\u001b[49m\u001b[43m(\u001b[49m\u001b[43m(\u001b[49m\u001b[43mn_samples\u001b[49m\u001b[43m,\u001b[49m\u001b[43m \u001b[49m\u001b[38;5;241;43m1\u001b[39;49m\u001b[43m)\u001b[49m\u001b[43m)\u001b[49m\u001b[43m \u001b[49m\u001b[38;5;241;43m*\u001b[39;49m\u001b[43m \u001b[49m\u001b[43mclass_prior_\u001b[49m\u001b[43m[\u001b[49m\u001b[43mk\u001b[49m\u001b[43m]\u001b[49m\n\u001b[0;32m    372\u001b[0m \u001b[38;5;28;01melif\u001b[39;00m \u001b[38;5;28mself\u001b[39m\u001b[38;5;241m.\u001b[39m_strategy \u001b[38;5;241m==\u001b[39m \u001b[38;5;124m\"\u001b[39m\u001b[38;5;124mstratified\u001b[39m\u001b[38;5;124m\"\u001b[39m:\n\u001b[0;32m    373\u001b[0m     out \u001b[38;5;241m=\u001b[39m rs\u001b[38;5;241m.\u001b[39mmultinomial(\u001b[38;5;241m1\u001b[39m, class_prior_[k], size\u001b[38;5;241m=\u001b[39mn_samples)\n",
      "\u001b[1;31mMemoryError\u001b[0m: Unable to allocate 368. GiB for an array with shape (249589, 197920) and data type float64"
     ]
    }
   ],
   "source": [
    "# Fit the model to the training data\n",
    "gb_classifier.fit(X_train, y_train)\n",
    "\n"
   ]
  },
  {
   "cell_type": "code",
   "execution_count": null,
   "id": "592c1a34",
   "metadata": {},
   "outputs": [],
   "source": [
    "# Make predictions on the test data\n",
    "y_pred = gb_classifier.predict(X_test)\n"
   ]
  },
  {
   "cell_type": "code",
   "execution_count": null,
   "id": "4810a48e",
   "metadata": {},
   "outputs": [],
   "source": []
  },
  {
   "cell_type": "code",
   "execution_count": null,
   "id": "7f869917",
   "metadata": {},
   "outputs": [],
   "source": [
    "rf_clf.fit(X_train, y_train)"
   ]
  },
  {
   "cell_type": "code",
   "execution_count": null,
   "id": "dedb1b06",
   "metadata": {},
   "outputs": [],
   "source": [
    "# Finding the predictions of random forest classifier for train and test subsets\n",
    "train_y_pred = rf_clf.predict(X_train)\n",
    "test_y_pred = rf_clf.predict(X_test)"
   ]
  },
  {
   "cell_type": "code",
   "execution_count": null,
   "id": "bdcb4ea9",
   "metadata": {},
   "outputs": [],
   "source": [
    "train_score = metrics.accuracy_score(y_train, train_y_pred) # Compute train accuracy\n",
    "test_score = metrics.accuracy_score(y_test, test_y_pred) # Compute test accuracy\n",
    "train_report = classification_report(y_train, train_y_pred) # Generate classification report for train data\n",
    "test_report = classification_report(y_test, test_y_pred) # Generate classification report for test data\n",
    "print('Random Forest Classifier Train Classification Report: \\n\\n', train_report,'\\n\\n')\n",
    "print('Random Forest Classifier Test Classification Report: \\n\\n', test_report)"
   ]
  },
  {
   "cell_type": "code",
   "execution_count": null,
   "id": "d1c2c8fb",
   "metadata": {},
   "outputs": [],
   "source": []
  }
 ],
 "metadata": {
  "kernelspec": {
   "display_name": "Python 3 (ipykernel)",
   "language": "python",
   "name": "python3"
  },
  "language_info": {
   "codemirror_mode": {
    "name": "ipython",
    "version": 3
   },
   "file_extension": ".py",
   "mimetype": "text/x-python",
   "name": "python",
   "nbconvert_exporter": "python",
   "pygments_lexer": "ipython3",
   "version": "3.10.9"
  }
 },
 "nbformat": 4,
 "nbformat_minor": 5
}
